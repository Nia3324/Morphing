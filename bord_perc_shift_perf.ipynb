{
 "cells": [
  {
   "cell_type": "code",
   "execution_count": null,
   "metadata": {},
   "outputs": [],
   "source": [
    "from sklearn.model_selection import train_test_split\n",
    "import numpy as np\n",
    "import pandas as pd\n",
    "import pickle\n",
    "\n",
    "from models import Models\n",
    "from morph import Morph\n",
    "from generation import Generation"
   ]
  },
  {
   "cell_type": "code",
   "execution_count": null,
   "metadata": {},
   "outputs": [
    {
     "ename": "TypeError",
     "evalue": "slice indices must be integers or None or have an __index__ method",
     "output_type": "error",
     "traceback": [
      "\u001b[1;31m---------------------------------------------------------------------------\u001b[0m",
      "\u001b[1;31mTypeError\u001b[0m                                 Traceback (most recent call last)",
      "Cell \u001b[1;32mIn[4], line 23\u001b[0m\n\u001b[0;32m     21\u001b[0m res \u001b[38;5;241m=\u001b[39m {}\n\u001b[0;32m     22\u001b[0m morph \u001b[38;5;241m=\u001b[39m Morph(X_test, y_test)\n\u001b[1;32m---> 23\u001b[0m \u001b[43mmorph\u001b[49m\u001b[38;5;241;43m.\u001b[39;49m\u001b[43mget_DTWGlobalBorderline\u001b[49m\u001b[43m(\u001b[49m\u001b[43mperc_samples\u001b[49m\u001b[38;5;241;43m=\u001b[39;49m\u001b[43mb\u001b[49m\u001b[43m)\u001b[49m \n\u001b[0;32m     25\u001b[0m res[\u001b[38;5;124m'\u001b[39m\u001b[38;5;124mlsmt\u001b[39m\u001b[38;5;124m'\u001b[39m] \u001b[38;5;241m=\u001b[39m morph\u001b[38;5;241m.\u001b[39mBinay_MorphingCalculater(lstm)\n\u001b[0;32m     26\u001b[0m res[\u001b[38;5;124m'\u001b[39m\u001b[38;5;124mcatch22\u001b[39m\u001b[38;5;124m'\u001b[39m] \u001b[38;5;241m=\u001b[39m morph\u001b[38;5;241m.\u001b[39mBinay_MorphingCalculater(catch22)\n",
      "File \u001b[1;32md:\\UNI\\L_IACD\\3_Year\\2_Semester\\INV\\Morphing\\morph.py:40\u001b[0m, in \u001b[0;36mMorph.get_DTWGlobalBorderline\u001b[1;34m(self, perc_samples)\u001b[0m\n\u001b[0;32m     37\u001b[0m \u001b[38;5;28;01mif\u001b[39;00m n_samples \u001b[38;5;241m>\u001b[39m \u001b[38;5;28mlen\u001b[39m(closer_neighbors):\n\u001b[0;32m     38\u001b[0m     n_samples \u001b[38;5;241m=\u001b[39m \u001b[38;5;28mlen\u001b[39m(closer_neighbors)\n\u001b[1;32m---> 40\u001b[0m \u001b[38;5;28mself\u001b[39m\u001b[38;5;241m.\u001b[39mdistances \u001b[38;5;241m=\u001b[39m np\u001b[38;5;241m.\u001b[39marray(\u001b[43mdistances\u001b[49m\u001b[43m[\u001b[49m\u001b[43m:\u001b[49m\u001b[43mn_samples\u001b[49m\u001b[43m]\u001b[49m)\n\u001b[0;32m     42\u001b[0m \u001b[38;5;28mself\u001b[39m\u001b[38;5;241m.\u001b[39mborderline_pairs \u001b[38;5;241m=\u001b[39m [(indices[idx], distances[idx]) \u001b[38;5;28;01mfor\u001b[39;00m idx \u001b[38;5;129;01min\u001b[39;00m closer_neighbors[:n_samples]]\n\u001b[0;32m     43\u001b[0m \u001b[38;5;28;01mreturn\u001b[39;00m\n",
      "\u001b[1;31mTypeError\u001b[0m: slice indices must be integers or None or have an __index__ method"
     ]
    }
   ],
   "source": [
    "# shift values = [0.5, 0.45, 0.4, 0.35, 0.3, 0.25, 0.2, 0.15, 0.1, 0.05, 0.0]\n",
    "shift_values = np.arange(0.5, -0.01, -0.05).tolist()\n",
    "\n",
    "results = {}\n",
    "for s in shift_values:\n",
    "    for b in [0.5, 0.10, 0.15, 0.20]:\n",
    "        # Generate dataset with shift\n",
    "        gen = Generation(base_functions=('sin', 'sin'), n_samples=100, frequencies=(0.5,0.5), noise_level=(0.05, 0.05), shift_vert=s, shif_horz=s) \n",
    "        X, y = gen.generate_data()\n",
    "        X_train, X_test, y_train, y_test = train_test_split(X, y, test_size=0.2, random_state=42)\n",
    "\n",
    "        # Train models\n",
    "        lstm = Models('lstm', X_train, y_train)\n",
    "        lstm.train_lstm()\n",
    "        catch22 = Models('catch22', X_train, y_train)\n",
    "        catch22.train_catch22()\n",
    "        rocket = Models('rocket', X_train, y_train)\n",
    "        rocket.train_rocket()\n",
    "\n",
    "        # Calculate morphing\n",
    "        res = {}\n",
    "        morph = Morph(X_test, y_test)\n",
    "        morph.get_DTWGlobalBorderline(perc_samples=b) \n",
    "\n",
    "        res['lsmt'] = morph.Binay_MorphingCalculater(lstm)\n",
    "        res['catch22'] = morph.Binay_MorphingCalculater(catch22)\n",
    "        res['rocket'] = morph.Binay_MorphingCalculater(rocket)\n",
    "\n",
    "        results[s] = res"
   ]
  },
  {
   "cell_type": "code",
   "execution_count": null,
   "metadata": {},
   "outputs": [],
   "source": [
    "with open('results/bord_perc_shift_perf.pkl', 'wb') as f:\n",
    "    pickle.dump(results, f)"
   ]
  },
  {
   "cell_type": "code",
   "execution_count": null,
   "metadata": {},
   "outputs": [],
   "source": [
    "with open('results/bord_perc_shift_perf.pkl', 'rb') as f:\n",
    "    loaded_res = pickle.load(f)"
   ]
  },
  {
   "cell_type": "code",
   "execution_count": null,
   "metadata": {},
   "outputs": [],
   "source": [
    "# Create lists to store the data\n",
    "data = []\n",
    "for shift_val in loaded_res.keys():\n",
    "    row_data = {'shift_value': float(f\"{shift_val:.2f}\")}\n",
    "    for model in loaded_res[shift_val].keys():\n",
    "        row_data[f'{model}_mean'] = loaded_res[shift_val][model][3]['mean']\n",
    "        row_data[f'{model}_std'] = loaded_res[shift_val][model][3]['std']\n",
    "    data.append(row_data)\n",
    "\n",
    "df = pd.DataFrame(data)\n",
    "df = df.set_index('shift_value')\n",
    "df.columns = pd.MultiIndex.from_tuples([\n",
    "    (col.split('_')[0], col.split('_')[1]) \n",
    "    for col in df.columns\n",
    "])\n",
    "\n",
    "df.to_csv(\"results/results_sin_cos.csv\")\n",
    "df"
   ]
  }
 ],
 "metadata": {
  "kernelspec": {
   "display_name": "morph",
   "language": "python",
   "name": "python3"
  },
  "language_info": {
   "codemirror_mode": {
    "name": "ipython",
    "version": 3
   },
   "file_extension": ".py",
   "mimetype": "text/x-python",
   "name": "python",
   "nbconvert_exporter": "python",
   "pygments_lexer": "ipython3",
   "version": "3.10.12"
  }
 },
 "nbformat": 4,
 "nbformat_minor": 2
}
