{
 "cells": [
  {
   "cell_type": "code",
   "execution_count": 1,
   "metadata": {},
   "outputs": [],
   "source": [
    "import numpy as np\n",
    "from aeon.datasets import load_classification\n",
    "from sklearn.model_selection import train_test_split\n",
    "import pickle\n",
    "import pandas as pd\n",
    "from models import Models\n",
    "from morph import Morph\n",
    "from sklearn.preprocessing import LabelEncoder"
   ]
  },
  {
   "cell_type": "code",
   "execution_count": 3,
   "metadata": {},
   "outputs": [
    {
     "name": "stdout",
     "output_type": "stream",
     "text": [
      "Shape of X =  (1420, 1, 1639)\n",
      "Classes: [0 1 2 3]\n"
     ]
    }
   ],
   "source": [
    "ECG_datasets = ['AtrialFibrillation', 'CardiacArrhythmia', 'CinCECGTorso',\n",
    "                'ECG200', 'ECG5000', 'ECGFiveDays', 'NonInvasiveFetalECGThorax1',\n",
    "                'NonInvasiveFetalECGThorax2', 'StandWalkJump', 'TwoLeadECG','NerveDamage', 'MedicalImages']\n",
    "\n",
    "\n",
    "df_name = 'CinCECGTorso'\n",
    "X, y = load_classification(df_name)\n",
    "print(\"Shape of X = \", X.shape)\n",
    "\n",
    "le = LabelEncoder()\n",
    "y = le.fit_transform(y)\n",
    "print(f'Classes: {np.unique(y)}')\n",
    "\n",
    "X_train, X_test, y_train, y_test = train_test_split(X, y, test_size=0.2, random_state=42)"
   ]
  },
  {
   "cell_type": "code",
   "execution_count": null,
   "metadata": {},
   "outputs": [
    {
     "name": "stderr",
     "output_type": "stream",
     "text": [
      "c:\\Users\\anton\\anaconda3\\envs\\morph\\lib\\site-packages\\tensorflow\\python\\util\\dispatch.py:1176: SyntaxWarning: In loss categorical_crossentropy, expected y_pred.shape to be (batch_size, num_classes) with num_classes > 1. Received: y_pred.shape=(None, 1). Consider using 'binary_crossentropy' if you only have 2 classes.\n",
      "  return dispatch_target(*args, **kwargs)\n"
     ]
    }
   ],
   "source": [
    "# Train Model\n",
    "lstm = Models('lstm', X_train, y_train)\n",
    "lstm.train_lstm()\n",
    "# catch = Models('catch22', X_train, y_train)\n",
    "# catch.train_catch22()\n",
    "# rocket = Models('rocket', X_train, y_train)\n",
    "# rocket.train_rocket()"
   ]
  },
  {
   "cell_type": "code",
   "execution_count": null,
   "metadata": {},
   "outputs": [
    {
     "name": "stdout",
     "output_type": "stream",
     "text": [
      "0\n",
      "1\n",
      "2\n",
      "3\n",
      "4\n",
      "5\n",
      "6\n",
      "7\n",
      "8\n",
      "9\n"
     ]
    }
   ],
   "source": [
    "results = {}\n",
    "\n",
    "for c in np.unique(y):\n",
    "    res = {}\n",
    "\n",
    "    mor = Morph(X_test, y_test, c)\n",
    "    mor.get_DTWGlobalBorderline(perc_samples=0.1)\n",
    "\n",
    "    res['lstm'] = mor.Binay_MorphingCalculater(lstm)\n",
    "    res['catch'] = mor.Binay_MorphingCalculater(catch)\n",
    "    res['rocket'] = mor.Binay_MorphingCalculater(rocket)\n",
    "\n",
    "    print(c)\n",
    "    results[c] = res\n",
    "    columns = ['dataset', 'class', 'model', 'mean', 'std']\n",
    "    \n",
    "with open('results/MedicalImages.pkl', 'wb') as f:\n",
    "    pickle.dump(results, f)"
   ]
  },
  {
   "cell_type": "code",
   "execution_count": 47,
   "metadata": {},
   "outputs": [],
   "source": [
    "with open('results/MedicalImages.pkl', 'rb') as f:\n",
    "    results = pickle.load(f)"
   ]
  },
  {
   "cell_type": "code",
   "execution_count": 48,
   "metadata": {},
   "outputs": [],
   "source": [
    "columns = ['dataset', 'class', 'model', 'mean', 'std']\n",
    "\n",
    "df = []\n",
    "for c in results.keys():\n",
    "    for model in results[c].keys():\n",
    "        data = results[c][model][3]\n",
    "        line = [df_name, c, model, data['mean'], data['std']]\n",
    "        df.append(line)\n",
    "\n",
    "# save to csv\n",
    "df = pd.DataFrame(df, columns=columns)\n",
    "df.to_csv('results/medicalimages.csv', index=False)"
   ]
  },
  {
   "cell_type": "code",
   "execution_count": 49,
   "metadata": {},
   "outputs": [
    {
     "data": {
      "text/html": [
       "<div>\n",
       "<style scoped>\n",
       "    .dataframe tbody tr th:only-of-type {\n",
       "        vertical-align: middle;\n",
       "    }\n",
       "\n",
       "    .dataframe tbody tr th {\n",
       "        vertical-align: top;\n",
       "    }\n",
       "\n",
       "    .dataframe thead th {\n",
       "        text-align: right;\n",
       "    }\n",
       "</style>\n",
       "<table border=\"1\" class=\"dataframe\">\n",
       "  <thead>\n",
       "    <tr style=\"text-align: right;\">\n",
       "      <th></th>\n",
       "      <th>dataset</th>\n",
       "      <th>class</th>\n",
       "      <th>model</th>\n",
       "      <th>mean</th>\n",
       "      <th>std</th>\n",
       "    </tr>\n",
       "  </thead>\n",
       "  <tbody>\n",
       "    <tr>\n",
       "      <th>0</th>\n",
       "      <td>MedicalImages</td>\n",
       "      <td>0</td>\n",
       "      <td>lstm</td>\n",
       "      <td>0.000000</td>\n",
       "      <td>0.000000</td>\n",
       "    </tr>\n",
       "    <tr>\n",
       "      <th>1</th>\n",
       "      <td>MedicalImages</td>\n",
       "      <td>0</td>\n",
       "      <td>catch</td>\n",
       "      <td>0.440040</td>\n",
       "      <td>0.257144</td>\n",
       "    </tr>\n",
       "    <tr>\n",
       "      <th>2</th>\n",
       "      <td>MedicalImages</td>\n",
       "      <td>0</td>\n",
       "      <td>rocket</td>\n",
       "      <td>0.451297</td>\n",
       "      <td>0.243854</td>\n",
       "    </tr>\n",
       "    <tr>\n",
       "      <th>3</th>\n",
       "      <td>MedicalImages</td>\n",
       "      <td>1</td>\n",
       "      <td>lstm</td>\n",
       "      <td>0.000000</td>\n",
       "      <td>0.000000</td>\n",
       "    </tr>\n",
       "    <tr>\n",
       "      <th>4</th>\n",
       "      <td>MedicalImages</td>\n",
       "      <td>1</td>\n",
       "      <td>catch</td>\n",
       "      <td>0.367994</td>\n",
       "      <td>0.217564</td>\n",
       "    </tr>\n",
       "  </tbody>\n",
       "</table>\n",
       "</div>"
      ],
      "text/plain": [
       "         dataset  class   model      mean       std\n",
       "0  MedicalImages      0    lstm  0.000000  0.000000\n",
       "1  MedicalImages      0   catch  0.440040  0.257144\n",
       "2  MedicalImages      0  rocket  0.451297  0.243854\n",
       "3  MedicalImages      1    lstm  0.000000  0.000000\n",
       "4  MedicalImages      1   catch  0.367994  0.217564"
      ]
     },
     "execution_count": 49,
     "metadata": {},
     "output_type": "execute_result"
    }
   ],
   "source": [
    "df.head()"
   ]
  },
  {
   "cell_type": "code",
   "execution_count": 1,
   "metadata": {},
   "outputs": [
    {
     "name": "stdout",
     "output_type": "stream",
     "text": [
      "AtrialFibrillation Multivariate Time Series\n",
      "CardiacArrhythmia Dataset Not Available\n",
      "------------------------------------------------------------\n",
      "CinCECGTorso\n"
     ]
    },
    {
     "name": "stderr",
     "output_type": "stream",
     "text": [
      "c:\\Users\\anton\\anaconda3\\envs\\morph\\lib\\site-packages\\tensorflow\\python\\util\\dispatch.py:1176: SyntaxWarning: In loss categorical_crossentropy, expected y_pred.shape to be (batch_size, num_classes) with num_classes > 1. Received: y_pred.shape=(None, 1). Consider using 'binary_crossentropy' if you only have 2 classes.\n",
      "  return dispatch_target(*args, **kwargs)\n"
     ]
    },
    {
     "ename": "KeyboardInterrupt",
     "evalue": "",
     "output_type": "error",
     "traceback": [
      "\u001b[1;31m---------------------------------------------------------------------------\u001b[0m",
      "\u001b[1;31mKeyboardInterrupt\u001b[0m                         Traceback (most recent call last)",
      "Cell \u001b[1;32mIn[1], line 49\u001b[0m\n\u001b[0;32m     46\u001b[0m res \u001b[38;5;241m=\u001b[39m {}\n\u001b[0;32m     48\u001b[0m mor \u001b[38;5;241m=\u001b[39m Morph(X_test, y_test, c)\n\u001b[1;32m---> 49\u001b[0m \u001b[43mmor\u001b[49m\u001b[38;5;241;43m.\u001b[39;49m\u001b[43mget_DTWGlobalBorderline\u001b[49m\u001b[43m(\u001b[49m\u001b[43mperc_samples\u001b[49m\u001b[38;5;241;43m=\u001b[39;49m\u001b[38;5;241;43m0.1\u001b[39;49m\u001b[43m)\u001b[49m\n\u001b[0;32m     51\u001b[0m res[\u001b[38;5;124m'\u001b[39m\u001b[38;5;124mlstm\u001b[39m\u001b[38;5;124m'\u001b[39m] \u001b[38;5;241m=\u001b[39m mor\u001b[38;5;241m.\u001b[39mBinay_MorphingCalculater(lstm)\n\u001b[0;32m     52\u001b[0m res[\u001b[38;5;124m'\u001b[39m\u001b[38;5;124mcatch\u001b[39m\u001b[38;5;124m'\u001b[39m] \u001b[38;5;241m=\u001b[39m mor\u001b[38;5;241m.\u001b[39mBinay_MorphingCalculater(catch)\n",
      "File \u001b[1;32mc:\\Users\\anton\\Desktop\\Research\\Morphing\\morph.py:32\u001b[0m, in \u001b[0;36mMorph.get_DTWGlobalBorderline\u001b[1;34m(self, perc_samples)\u001b[0m\n\u001b[0;32m     30\u001b[0m \u001b[38;5;28;01mfor\u001b[39;00m i, sample0 \u001b[38;5;129;01min\u001b[39;00m \u001b[38;5;28menumerate\u001b[39m(\u001b[38;5;28mself\u001b[39m\u001b[38;5;241m.\u001b[39mclass0_X):\n\u001b[0;32m     31\u001b[0m     \u001b[38;5;28;01mfor\u001b[39;00m j, sample1 \u001b[38;5;129;01min\u001b[39;00m \u001b[38;5;28menumerate\u001b[39m(\u001b[38;5;28mself\u001b[39m\u001b[38;5;241m.\u001b[39mclass1_X):\n\u001b[1;32m---> 32\u001b[0m         \u001b[43mdistances\u001b[49m\u001b[38;5;241;43m.\u001b[39;49m\u001b[43mappend\u001b[49m\u001b[43m(\u001b[49m\u001b[43mdtw_distance\u001b[49m\u001b[43m(\u001b[49m\u001b[43msample0\u001b[49m\u001b[43m,\u001b[49m\u001b[43m \u001b[49m\u001b[43msample1\u001b[49m\u001b[43m)\u001b[49m\u001b[43m)\u001b[49m\n\u001b[0;32m     33\u001b[0m         indices\u001b[38;5;241m.\u001b[39mappend((i,j))\n\u001b[0;32m     35\u001b[0m sorted_neighbors \u001b[38;5;241m=\u001b[39m np\u001b[38;5;241m.\u001b[39margsort(distances)\n",
      "\u001b[1;31mKeyboardInterrupt\u001b[0m: "
     ]
    }
   ],
   "source": [
    "import numpy as np\n",
    "from aeon.datasets import load_classification\n",
    "from sklearn.model_selection import train_test_split\n",
    "import pickle\n",
    "import pandas as pd\n",
    "from models import Models\n",
    "from morph import Morph\n",
    "from sklearn.preprocessing import LabelEncoder\n",
    "\n",
    "results = {}\n",
    "ECG_datasets = ['AtrialFibrillation', 'CardiacArrhythmia', 'CinCECGTorso',\n",
    "                'ECG200', 'ECG5000', 'ECGFiveDays', 'NonInvasiveFetalECGThorax1',\n",
    "                'NonInvasiveFetalECGThorax2', 'StandWalkJump', 'TwoLeadECG','NerveDamage', 'MedicalImages']\n",
    "\n",
    "\n",
    "for df_name in ECG_datasets:\n",
    "    try:\n",
    "        X, y = load_classification(df_name)\n",
    "        le = LabelEncoder()\n",
    "        y = le.fit_transform(y)\n",
    "    except:\n",
    "        print(df_name, 'Dataset Not Available')\n",
    "        continue\n",
    "\n",
    "\n",
    "    if X.shape[1] != 1:\n",
    "        print(df_name, 'Multivariate Time Series')\n",
    "        continue\n",
    "\n",
    "    print('-'*60)\n",
    "    print(df_name)\n",
    "\n",
    "    X_train, X_test, y_train, y_test = train_test_split(X, y, test_size=0.2, random_state=42)\n",
    "\n",
    "\n",
    "    # Train Models\n",
    "    lstm = Models('lstm', X_train, y_train)\n",
    "    lstm.train_lstm()\n",
    "    catch = Models('catch22', X_train, y_train)\n",
    "    catch.train_catch22()\n",
    "    rocket = Models('rocket', X_train, y_train)\n",
    "    rocket.train_rocket()\n",
    "\n",
    "    # Loop through class\n",
    "    for c in np.unique(y):\n",
    "        res = {}\n",
    "\n",
    "        mor = Morph(X_test, y_test, c)\n",
    "        mor.get_DTWGlobalBorderline(perc_samples=0.1)\n",
    "\n",
    "        res['lstm'] = mor.Binay_MorphingCalculater(lstm)\n",
    "        res['catch'] = mor.Binay_MorphingCalculater(catch)\n",
    "        res['rocket'] = mor.Binay_MorphingCalculater(rocket)\n",
    "\n",
    "        print(c)\n",
    "        results[c] = res\n",
    "        \n",
    "        with open('results/experiments.pkl', 'wb') as f:\n",
    "            pickle.dump(results, f)\n",
    "\n",
    "\n",
    "    with open('results/experiments.pkl', 'rb') as f:\n",
    "        data = pickle.load(f)\n",
    "    \n",
    "    df = []\n",
    "    for c in results.keys():\n",
    "        for model in results[c].keys():\n",
    "            data = results[c][model][3]\n",
    "            line = [df_name, c, model, data['mean'], data['std']]\n",
    "            df.append(line)\n",
    "\n",
    "    # save to csv\n",
    "    columns = ['dataset', 'class', 'model', 'mean', 'std']\n",
    "    df = pd.DataFrame(df, columns=columns)\n",
    "    df.to_csv('results/medicalimages.csv', index=False)\n"
   ]
  }
 ],
 "metadata": {
  "kernelspec": {
   "display_name": "morph",
   "language": "python",
   "name": "python3"
  },
  "language_info": {
   "codemirror_mode": {
    "name": "ipython",
    "version": 3
   },
   "file_extension": ".py",
   "mimetype": "text/x-python",
   "name": "python",
   "nbconvert_exporter": "python",
   "pygments_lexer": "ipython3",
   "version": "3.10.16"
  }
 },
 "nbformat": 4,
 "nbformat_minor": 2
}
