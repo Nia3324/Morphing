{
 "cells": [
  {
   "cell_type": "code",
   "execution_count": 4,
   "metadata": {},
   "outputs": [],
   "source": [
    "import numpy as np\n",
    "from aeon.datasets import load_classification\n",
    "from sklearn.model_selection import train_test_split\n",
    "import pickle\n",
    "\n",
    "from models import Models\n",
    "from morph import Morph"
   ]
  },
  {
   "cell_type": "code",
   "execution_count": 10,
   "metadata": {},
   "outputs": [
    {
     "name": "stdout",
     "output_type": "stream",
     "text": [
      "Shape of X =  (750, 1, 720)\n",
      "Classes: ['1' '2' '3']\n"
     ]
    }
   ],
   "source": [
    "X, y = load_classification(\"RefrigerationDevices\")\n",
    "print(\"Shape of X = \", X.shape)\n",
    "print(f'Classes: {np.unique(y)}')\n",
    "\n",
    "X_train, X_test, y_train, y_test = train_test_split(X, y, test_size=0.2, random_state=42)"
   ]
  },
  {
   "cell_type": "code",
   "execution_count": null,
   "metadata": {},
   "outputs": [
    {
     "name": "stdout",
     "output_type": "stream",
     "text": [
      "Class 1 - vs - Other Classes\n",
      "------------------------------------------------------------\n",
      "Pair-Wise Results:\n",
      "Pair: (80, 39) -> Morphing percentage: 0.01\n",
      "Pair: (26, 18) -> Morphing percentage: 0.01\n",
      "Pair: (69, 2) -> Morphing percentage: 0.01\n",
      "Pair: (56, 36) -> Morphing percentage: 0.01\n",
      "Pair: (35, 39) -> Morphing percentage: 0.01\n",
      "Pair: (69, 9) -> Morphing percentage: 0.01\n",
      "Pair: (5, 2) -> Morphing percentage: 0.01\n",
      "Pair: (65, 14) -> Morphing percentage: 0.01\n",
      "Pair: (30, 9) -> Morphing percentage: 0.01\n"
     ]
    }
   ],
   "source": [
    "# Train Model\n",
    "rocket = Models('rocket', X_train, y_train)\n",
    "rocket.train_rocket()\n",
    "res = {}\n",
    "\n",
    "for c in np.unique(y):\n",
    "    mor = Morph(X_test, y_test, c)\n",
    "    mor.get_DTWGlobalBorderline(50)\n",
    "    print(f\"Class {c} - vs - Other Classes\")\n",
    "    print(\"-\"*60)\n",
    "    res[c] = mor.Binay_MorphingCalculater(rocket, verbose=True)\n",
    "\n",
    "with open('RefrigerationDevices.pkl', 'wb') as f:\n",
    "    pickle.dump(res, f)\n"
   ]
  }
 ],
 "metadata": {
  "kernelspec": {
   "display_name": "morph",
   "language": "python",
   "name": "python3"
  },
  "language_info": {
   "codemirror_mode": {
    "name": "ipython",
    "version": 3
   },
   "file_extension": ".py",
   "mimetype": "text/x-python",
   "name": "python",
   "nbconvert_exporter": "python",
   "pygments_lexer": "ipython3",
   "version": "3.10.12"
  }
 },
 "nbformat": 4,
 "nbformat_minor": 2
}
