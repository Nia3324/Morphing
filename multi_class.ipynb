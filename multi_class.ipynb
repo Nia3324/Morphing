{
 "cells": [
  {
   "cell_type": "code",
   "execution_count": 1,
   "metadata": {},
   "outputs": [],
   "source": [
    "import numpy as np\n",
    "from aeon.datasets import load_classification\n",
    "from sklearn.model_selection import train_test_split\n",
    "import pickle\n",
    "\n",
    "from models import Models\n",
    "from morph import Morph"
   ]
  },
  {
   "cell_type": "code",
   "execution_count": 2,
   "metadata": {},
   "outputs": [
    {
     "name": "stdout",
     "output_type": "stream",
     "text": [
      "Shape of X =  (750, 1, 720)\n",
      "Classes: ['1' '2' '3']\n"
     ]
    }
   ],
   "source": [
    "X, y = load_classification(\"RefrigerationDevices\")\n",
    "print(\"Shape of X = \", X.shape)\n",
    "print(f'Classes: {np.unique(y)}')\n",
    "\n",
    "X_train, X_test, y_train, y_test = train_test_split(X, y, test_size=0.2, random_state=42)"
   ]
  },
  {
   "cell_type": "code",
   "execution_count": 4,
   "metadata": {},
   "outputs": [
    {
     "name": "stdout",
     "output_type": "stream",
     "text": [
      "Class 1 - vs - Other Classes\n",
      "------------------------------------------------------------\n",
      "Pair-Wise Results:\n",
      "Pair: (67, 7) -> Morphing percentage: 0.81\n",
      "Pair: (26, 18) -> Morphing percentage: 0.85\n",
      "Pair: (56, 36) -> Morphing percentage: 0.42\n",
      "Pair: (91, 32) -> Morphing percentage: 0.75\n",
      "Pair: (5, 2) -> Morphing percentage: 0.92\n",
      "Pair: (65, 14) -> Morphing percentage: 0.67\n",
      "Pair: (30, 9) -> Morphing percentage: 0.18\n",
      "Pair: (42, 7) -> Morphing percentage: 0.88\n",
      "Pair: (67, 49) -> Morphing percentage: 0.66\n",
      "Pair: (88, 33) -> Morphing percentage: 0.94\n",
      "Pair: (62, 7) -> Morphing percentage: 0.98\n",
      "Pair: (91, 33) -> Morphing percentage: 0.93\n",
      "Pair: (53, 36) -> Morphing percentage: 0.48\n",
      "Pair: (49, 36) -> Morphing percentage: 0.77\n",
      "Pair: (5, 18) -> Morphing percentage: 0.76\n",
      "Pair: (42, 51) -> Morphing percentage: 0.90\n",
      "Pair: (68, 42) -> Morphing percentage: 0.71\n",
      "Pair: (62, 49) -> Morphing percentage: 0.63\n",
      "Pair: (5, 9) -> Morphing percentage: 0.84\n",
      "-------------------------------------------------\n",
      "Mean morphing percentage: 0.74\n",
      "Standard deviation of morphing percentage: 0.20\n",
      "-------------------------------------------------\n",
      "Correctly Classified Pairs: 19/50\n",
      "Class 2 - vs - Other Classes\n",
      "------------------------------------------------------------\n",
      "Pair-Wise Results:\n",
      "Pair: (94, 14) -> Morphing percentage: 0.18\n",
      "Pair: (65, 4) -> Morphing percentage: 0.92\n",
      "Pair: (70, 19) -> Morphing percentage: 0.81\n",
      "Pair: (60, 8) -> Morphing percentage: 0.67\n",
      "Pair: (94, 5) -> Morphing percentage: 0.80\n",
      "Pair: (26, 11) -> Morphing percentage: 0.45\n",
      "Pair: (0, 15) -> Morphing percentage: 0.89\n",
      "Pair: (72, 19) -> Morphing percentage: 0.25\n",
      "Pair: (83, 26) -> Morphing percentage: 0.31\n",
      "Pair: (18, 4) -> Morphing percentage: 0.84\n",
      "-------------------------------------------------\n",
      "Mean morphing percentage: 0.61\n",
      "Standard deviation of morphing percentage: 0.27\n",
      "-------------------------------------------------\n",
      "Correctly Classified Pairs: 10/50\n",
      "Class 3 - vs - Other Classes\n",
      "------------------------------------------------------------\n",
      "Pair-Wise Results:\n",
      "Pair: (35, 46) -> Morphing percentage: 0.84\n",
      "Pair: (17, 41) -> Morphing percentage: 0.21\n",
      "Pair: (31, 16) -> Morphing percentage: 0.17\n",
      "Pair: (58, 34) -> Morphing percentage: 0.33\n",
      "Pair: (5, 32) -> Morphing percentage: 0.10\n",
      "Pair: (50, 34) -> Morphing percentage: 0.21\n",
      "Pair: (53, 52) -> Morphing percentage: 0.27\n",
      "Pair: (14, 29) -> Morphing percentage: 0.35\n",
      "Pair: (7, 46) -> Morphing percentage: 0.22\n",
      "Pair: (9, 3) -> Morphing percentage: 0.10\n",
      "Pair: (25, 40) -> Morphing percentage: 0.35\n",
      "Pair: (39, 0) -> Morphing percentage: 0.13\n",
      "Pair: (17, 25) -> Morphing percentage: 0.14\n",
      "Pair: (87, 41) -> Morphing percentage: 0.36\n",
      "Pair: (54, 50) -> Morphing percentage: 0.08\n",
      "Pair: (17, 39) -> Morphing percentage: 0.04\n",
      "Pair: (54, 52) -> Morphing percentage: 0.09\n",
      "Pair: (58, 32) -> Morphing percentage: 0.19\n",
      "-------------------------------------------------\n",
      "Mean morphing percentage: 0.23\n",
      "Standard deviation of morphing percentage: 0.18\n",
      "-------------------------------------------------\n",
      "Correctly Classified Pairs: 18/50\n"
     ]
    }
   ],
   "source": [
    "# Train Model\n",
    "rocket = Models('rocket', X_train, y_train)\n",
    "rocket.train_rocket()\n",
    "res = {}\n",
    "\n",
    "for c in np.unique(y):\n",
    "    mor = Morph(X_test, y_test, c)\n",
    "    mor.get_DTWGlobalBorderline(50)\n",
    "    print(f\"Class {c} - vs - Other Classes\")\n",
    "    print(\"-\"*60)\n",
    "    res[c] = mor.Binay_MorphingCalculater(rocket, verbose=True)\n",
    "\n",
    "with open('RefrigerationDevices.pkl', 'wb') as f:\n",
    "    pickle.dump(res, f)\n"
   ]
  }
 ],
 "metadata": {
  "kernelspec": {
   "display_name": "morph",
   "language": "python",
   "name": "python3"
  },
  "language_info": {
   "codemirror_mode": {
    "name": "ipython",
    "version": 3
   },
   "file_extension": ".py",
   "mimetype": "text/x-python",
   "name": "python",
   "nbconvert_exporter": "python",
   "pygments_lexer": "ipython3",
   "version": "3.10.12"
  }
 },
 "nbformat": 4,
 "nbformat_minor": 2
}
