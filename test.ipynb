{
 "cells": [
  {
   "cell_type": "code",
   "execution_count": 1,
   "metadata": {},
   "outputs": [],
   "source": [
    "import numpy as np\n",
    "import pandas as pd\n",
    "from sklearn.model_selection import train_test_split\n",
    "from models import Models"
   ]
  },
  {
   "cell_type": "code",
   "execution_count": 2,
   "metadata": {},
   "outputs": [],
   "source": [
    "from aeon.datasets import load_classification\n",
    "\n",
    "X, y = load_classification(\"ECG200\")\n",
    "\n",
    "y = np.where(y == '-1', 0, y)\n",
    "y = y.astype(np.float64)\n",
    "\n",
    "X_train, X_test, y_train, y_test = train_test_split(X, y, test_size=0.2, random_state=1234)"
   ]
  },
  {
   "cell_type": "code",
   "execution_count": 3,
   "metadata": {},
   "outputs": [
    {
     "name": "stdout",
     "output_type": "stream",
     "text": [
      "lstm Model Accuracy: 0.875\n"
     ]
    }
   ],
   "source": [
    "lstm = Models('lstm', X_train, y_train, X_test, y_test)\n",
    "lstm.train_lstm()\n",
    "lstm.predict(verbose=True)"
   ]
  },
  {
   "cell_type": "code",
   "execution_count": 4,
   "metadata": {},
   "outputs": [
    {
     "name": "stdout",
     "output_type": "stream",
     "text": [
      "catch22 Model Accuracy: 0.85\n"
     ]
    }
   ],
   "source": [
    "catch22 = Models('catch22', X_train, y_train, X_test, y_test)\n",
    "catch22.train_catch22()\n",
    "catch22.predict(verbose=True)"
   ]
  },
  {
   "cell_type": "code",
   "execution_count": 5,
   "metadata": {},
   "outputs": [
    {
     "name": "stdout",
     "output_type": "stream",
     "text": [
      "rocket Model Accuracy: 0.925\n"
     ]
    }
   ],
   "source": [
    "rocket = Models('rocket', X_train, y_train, X_test, y_test)\n",
    "rocket.train_rocket()\n",
    "rocket.predict(verbose=True)"
   ]
  },
  {
   "cell_type": "markdown",
   "metadata": {},
   "source": []
  }
 ],
 "metadata": {
  "kernelspec": {
   "display_name": "morph",
   "language": "python",
   "name": "python3"
  },
  "language_info": {
   "codemirror_mode": {
    "name": "ipython",
    "version": 3
   },
   "file_extension": ".py",
   "mimetype": "text/x-python",
   "name": "python",
   "nbconvert_exporter": "python",
   "pygments_lexer": "ipython3",
   "version": "3.10.12"
  }
 },
 "nbformat": 4,
 "nbformat_minor": 2
}
