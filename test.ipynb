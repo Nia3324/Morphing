{
 "cells": [
  {
   "cell_type": "code",
   "execution_count": 5,
   "id": "4b2d8509",
   "metadata": {},
   "outputs": [
    {
     "name": "stderr",
     "output_type": "stream",
     "text": [
      "100%|██████████| 40/40 [00:03<00:00, 10.98it/s]"
     ]
    },
    {
     "name": "stdout",
     "output_type": "stream",
     "text": [
      "Model: lstm\n",
      "tsMIST_Avg: 0.3952631578947368\n",
      "tsMIST_Std: 0.2064835515572897\n"
     ]
    },
    {
     "name": "stderr",
     "output_type": "stream",
     "text": [
      "\n"
     ]
    }
   ],
   "source": [
    "from source.models import Models\n",
    "from source.morph2 import Morph\n",
    "import numpy as np\n",
    "from aeon.datasets import load_classification\n",
    "from sklearn.preprocessing import LabelEncoder\n",
    "from sklearn.model_selection import train_test_split\n",
    "\n",
    "# load the data\n",
    "X, y = load_classification('ECG200')\n",
    "le = LabelEncoder()\n",
    "y = le.fit_transform(y)\n",
    "\n",
    "X_train, X_test, y_train, y_test = train_test_split(X, y, test_size=0.2, random_state=42)\n",
    "\n",
    "# train model \n",
    "model = Models('lstm', X_train, y_train)\n",
    "model.train_lstm()\n",
    "\n",
    "# compute morphing \n",
    "morphing = Morph(X_test, y_test, np.unique(y)[0])\n",
    "morphing.get_DTWGlobalBorderline(X_test.shape[0])\n",
    "results = morphing.CalculateMorph([model])\n",
    "\n",
    "for model in results.keys():\n",
    "    data = results[model]['metrics']\n",
    "    print(f\"Model: {model}\")\n",
    "    print(f\"tsMIST_Avg: {data['mean']}\")\n",
    "    print(f\"tsMIST_Std: {data['std']}\")"
   ]
  }
 ],
 "metadata": {
  "kernelspec": {
   "display_name": "MIST",
   "language": "python",
   "name": "python3"
  },
  "language_info": {
   "codemirror_mode": {
    "name": "ipython",
    "version": 3
   },
   "file_extension": ".py",
   "mimetype": "text/x-python",
   "name": "python",
   "nbconvert_exporter": "python",
   "pygments_lexer": "ipython3",
   "version": "3.10.13"
  }
 },
 "nbformat": 4,
 "nbformat_minor": 5
}
