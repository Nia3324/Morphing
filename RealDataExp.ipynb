{
 "cells": [
  {
   "cell_type": "code",
   "execution_count": 10,
   "id": "8580d2da",
   "metadata": {},
   "outputs": [],
   "source": [
    "import numpy as np\n",
    "from aeon.datasets import load_classification\n",
    "from sklearn.model_selection import train_test_split\n",
    "import pickle\n",
    "import pandas as pd\n",
    "from collections import Counter\n",
    "import csv\n",
    "\n",
    "from source.models import Models\n",
    "from source.morph2 import Morph\n",
    "\n",
    "import tsfel\n",
    "\n",
    "from sklearn.preprocessing import LabelEncoder\n",
    "from sklearn.metrics import accuracy_score\n",
    "import time\n",
    "import pickle\n",
    "import warnings\n",
    "warnings.filterwarnings('ignore')"
   ]
  },
  {
   "cell_type": "code",
   "execution_count": 13,
   "id": "ac9c27c5",
   "metadata": {},
   "outputs": [],
   "source": [
    "ECG_datasets = ['ECG200', 'EOGHorizontalSignal', 'EOGVerticalSignal', 'Epilepsy', \n",
    "        'CinCECGTorso', \n",
    "        'ECG5000', 'ECGFiveDays', 'StandWalkJump', \n",
    "        'TwoLeadECG','NerveDamage' , 'MedicalImages',\n",
    "        'Colposcopy',\n",
    "        'EyesOpenShut', 'ToeSegmentation1', 'Heartbeat',\n",
    "         'EMOPain', 'HandMovementDirection']"
   ]
  },
  {
   "cell_type": "code",
   "execution_count": null,
   "id": "443a3a05",
   "metadata": {},
   "outputs": [
    {
     "name": "stdout",
     "output_type": "stream",
     "text": [
      "----------------------------------------------------------------------\n",
      "Dataset Name: ECG200\n",
      "--------------------------------------------------\n",
      "X_train Shape: (160, 1, 96)\n",
      "X_test Shape: (40, 1, 96)\n",
      "y_train Counts: (array([0, 1], dtype=int64), array([ 54, 106], dtype=int64))\n",
      "y_test Counts: (array([0, 1], dtype=int64), array([13, 27], dtype=int64))\n",
      "--------------------------------------------------\n",
      "{'lstm': 0.9, 'catch22': 0.8, 'rocket': 0.9}\n",
      "--------------------------------------------------\n",
      "Processing Class: 0\n"
     ]
    },
    {
     "name": "stderr",
     "output_type": "stream",
     "text": [
      "100%|██████████| 40/40 [00:04<00:00,  9.39it/s]\n",
      "100%|██████████| 40/40 [00:07<00:00,  5.53it/s]\n",
      "100%|██████████| 40/40 [00:38<00:00,  1.05it/s]\n"
     ]
    },
    {
     "name": "stdout",
     "output_type": "stream",
     "text": [
      "Total Class 0 run time: 49.559783935546875\n",
      "-1\n",
      "--------------------------------------------------\n",
      "Top 5 Feature Changes:\n",
      "0_MFCC_2: 249.5502612697744\n",
      "0_MFCC_8: 4.298398846100614\n",
      "0_Spectrogram mean coefficient_8.06Hz: 4.243280873998029\n",
      "0_Spectrogram mean coefficient_9.68Hz: 3.634506481649972\n",
      "0_MFCC_4: -3.42071573136745\n",
      "--------------------------------------------------\n",
      "Top 5 Feature Changes:\n",
      "0_MFCC_4: -5.832480325779804\n",
      "0_Spectrogram mean coefficient_8.06Hz: 4.437106468496177\n",
      "0_Spectrogram mean coefficient_9.68Hz: 4.051397830528047\n",
      "0_LPCC_0: 3.779842132551862\n",
      "0_MFCC_10: -2.5718534070948285\n",
      "--------------------------------------------------\n",
      "Top 5 Feature Changes:\n",
      "0_MFCC_2: 167.82828228709164\n",
      "0_MFCC_4: -3.53874360634455\n",
      "0_MFCC_8: 3.2812403479982555\n",
      "0_Spectrogram mean coefficient_8.06Hz: 2.9304808810335685\n",
      "0_MFCC_10: -2.3258697957092758\n",
      "Processing Class: 1\n"
     ]
    },
    {
     "name": "stderr",
     "output_type": "stream",
     "text": [
      "100%|██████████| 40/40 [00:03<00:00, 10.25it/s]\n",
      "100%|██████████| 40/40 [00:05<00:00,  6.70it/s]\n",
      "100%|██████████| 40/40 [00:37<00:00,  1.06it/s]\n"
     ]
    },
    {
     "name": "stdout",
     "output_type": "stream",
     "text": [
      "Total Class 1 run time: 47.73957347869873\n",
      "1\n",
      "--------------------------------------------------\n",
      "Top 5 Feature Changes:\n",
      "0_LPCC_0: 3353.3718527151395\n",
      "0_Spectrogram mean coefficient_41.94Hz: 531.8371739767856\n",
      "0_Spectrogram mean coefficient_43.55Hz: 504.8919690484615\n",
      "0_Spectrogram mean coefficient_45.16Hz: 435.84494044886725\n",
      "0_Spectrogram mean coefficient_50.0Hz: 433.4383447545708\n",
      "--------------------------------------------------\n",
      "Top 5 Feature Changes:\n",
      "0_Spectrogram mean coefficient_50.0Hz: 2137.5722572697337\n",
      "0_LPCC_0: 1860.9818269615487\n",
      "0_Spectrogram mean coefficient_41.94Hz: 608.333197316201\n",
      "0_Spectrogram mean coefficient_46.77Hz: 550.9495042882082\n",
      "0_Spectrogram mean coefficient_48.39Hz: 541.6613113291406\n",
      "--------------------------------------------------\n",
      "Top 5 Feature Changes:\n",
      "0_LPCC_0: 3993.750832191493\n",
      "0_Spectrogram mean coefficient_41.94Hz: 778.5364026426522\n",
      "0_Spectrogram mean coefficient_43.55Hz: 627.1509462404066\n",
      "0_Spectrogram mean coefficient_45.16Hz: 566.6336151739478\n",
      "0_Spectrogram mean coefficient_50.0Hz: 501.35078907881604\n",
      "----------------------------------------------------------------------\n",
      "Dataset Name: EOGHorizontalSignal\n",
      "--------------------------------------------------\n",
      "X_train Shape: (579, 1, 1250)\n",
      "X_test Shape: (145, 1, 1250)\n",
      "y_train Counts: (array([ 0,  1,  2,  3,  4,  5,  6,  7,  8,  9, 10, 11], dtype=int64), array([54, 46, 48, 46, 49, 51, 49, 53, 51, 46, 39, 47], dtype=int64))\n",
      "y_test Counts: (array([ 0,  1,  2,  3,  4,  5,  6,  7,  8,  9, 10, 11], dtype=int64), array([ 6, 14, 13, 13, 11,  9, 11,  8, 10, 15, 21, 14], dtype=int64))\n",
      "--------------------------------------------------\n",
      "{'lstm': 0.2482758620689655, 'catch22': 0.7862068965517242, 'rocket': 0.8689655172413793}\n",
      "--------------------------------------------------\n",
      "Processing Class: 0\n"
     ]
    },
    {
     "name": "stderr",
     "output_type": "stream",
     "text": [
      "100%|██████████| 145/145 [00:14<00:00, 10.00it/s]\n",
      "100%|██████████| 145/145 [04:46<00:00,  1.97s/it]\n",
      "100%|██████████| 145/145 [22:35<00:00,  9.35s/it]\n"
     ]
    },
    {
     "name": "stdout",
     "output_type": "stream",
     "text": [
      "Total Class 0 run time: 1671.8752734661102\n",
      "1\n",
      "avg_diff is None for lstm in 1. No correct model predictions!\n",
      "--------------------------------------------------\n",
      "Top 5 Feature Changes:\n",
      "0_MFCC_1: 6.395057249226118\n",
      "0_MFCC_2: 5.783851514669276\n",
      "0_MFCC_3: -2.2601146473138565\n",
      "0_Histogram mode: -1.3352779158425272\n",
      "0_Median absolute diff: 1.1749204627275178\n",
      "--------------------------------------------------\n",
      "Top 5 Feature Changes:\n",
      "0_MFCC_2: 122.89342377382617\n",
      "0_MFCC_1: 6.551053603656929\n",
      "0_MFCC_6: -2.7247086446155797\n",
      "0_Median absolute diff: 2.3517106379584316\n",
      "0_MFCC_3: -1.4459713971225725\n",
      "Processing Class: 1\n"
     ]
    },
    {
     "name": "stderr",
     "output_type": "stream",
     "text": [
      "100%|██████████| 145/145 [00:14<00:00,  9.69it/s]\n",
      "100%|██████████| 145/145 [04:47<00:00,  1.98s/it]\n",
      "100%|██████████| 145/145 [22:37<00:00,  9.36s/it]\n"
     ]
    },
    {
     "name": "stdout",
     "output_type": "stream",
     "text": [
      "Total Class 1 run time: 1694.7109076976776\n",
      "10\n",
      "avg_diff is None for lstm in 10. No correct model predictions!\n",
      "--------------------------------------------------\n",
      "Top 5 Feature Changes:\n",
      "0_Median: -3.27100314879301\n",
      "0_Median diff: 2.380981584245159\n",
      "0_MFCC_4: 2.165294877329997\n",
      "0_Histogram mode: -2.154805629755635\n",
      "0_Spectral decrease: -1.6793979650987203\n",
      "--------------------------------------------------\n",
      "Top 5 Feature Changes:\n",
      "0_Histogram mode: -2.45768203725305\n",
      "0_Median: -2.3934140045177372\n",
      "0_Median diff: 1.9165460320647305\n",
      "0_Spectral decrease: -1.8881239430436143\n",
      "0_Kurtosis: -1.7336218428882493\n",
      "Processing Class: 2\n"
     ]
    },
    {
     "name": "stderr",
     "output_type": "stream",
     "text": [
      "100%|██████████| 145/145 [00:15<00:00,  9.65it/s]\n",
      "100%|██████████| 145/145 [04:53<00:00,  2.02s/it]\n",
      "100%|██████████| 145/145 [22:34<00:00,  9.34s/it]\n"
     ]
    },
    {
     "name": "stdout",
     "output_type": "stream",
     "text": [
      "Total Class 2 run time: 1695.0913650989532\n",
      "11\n",
      "avg_diff is None for lstm in 11. No correct model predictions!\n",
      "--------------------------------------------------\n",
      "Top 5 Feature Changes:\n",
      "0_MFCC_9: -8.74838475073936\n",
      "0_Median absolute diff: 8.182442293745273\n",
      "0_MFCC_5: -6.492719778817065\n",
      "0_MFCC_7: -4.310089817833568\n",
      "0_Spectrogram mean coefficient_0.0Hz: 3.3300084771851477\n",
      "--------------------------------------------------\n",
      "Top 5 Feature Changes:\n",
      "0_MFCC_9: -10.426511533947698\n",
      "0_Median absolute diff: 7.336085112955922\n",
      "0_MFCC_7: -5.065146018297837\n",
      "0_Spectrogram mean coefficient_0.0Hz: 3.226068683416536\n",
      "0_MFCC_11: -2.3987632315856433\n",
      "Processing Class: 3\n"
     ]
    },
    {
     "name": "stderr",
     "output_type": "stream",
     "text": [
      "100%|██████████| 145/145 [00:15<00:00,  9.66it/s]\n",
      "100%|██████████| 145/145 [04:43<00:00,  1.96s/it]\n",
      "100%|██████████| 145/145 [22:39<00:00,  9.38s/it]\n"
     ]
    },
    {
     "name": "stdout",
     "output_type": "stream",
     "text": [
      "Total Class 3 run time: 1691.8324341773987\n",
      "12\n",
      "avg_diff is None for lstm in 12. No correct model predictions!\n",
      "--------------------------------------------------\n",
      "Top 5 Feature Changes:\n",
      "0_MFCC_6: -18.923983082667004\n",
      "0_Histogram mode: 3.465471640281409\n",
      "0_Median diff: -0.9383439322373551\n",
      "0_Kurtosis: -0.8949412449617924\n",
      "0_ECDF Percentile_0: 0.8304406052273715\n",
      "--------------------------------------------------\n",
      "Top 5 Feature Changes:\n",
      "0_MFCC_3: -2.6058620347657935\n",
      "0_Median diff: -1.8317097660497634\n",
      "0_MFCC_1: 1.7972700680043894\n",
      "0_Kurtosis: -1.4030457419465034\n",
      "0_MFCC_7: -1.2692708398006116\n",
      "Processing Class: 4\n"
     ]
    },
    {
     "name": "stderr",
     "output_type": "stream",
     "text": [
      "100%|██████████| 145/145 [00:15<00:00,  9.31it/s]\n",
      "100%|██████████| 145/145 [04:48<00:00,  1.99s/it]\n",
      "100%|██████████| 145/145 [22:33<00:00,  9.34s/it]\n"
     ]
    },
    {
     "name": "stdout",
     "output_type": "stream",
     "text": [
      "Total Class 4 run time: 1686.2713005542755\n",
      "2\n",
      "avg_diff is None for lstm in 2. No correct model predictions!\n",
      "--------------------------------------------------\n",
      "Top 5 Feature Changes:\n",
      "0_Median diff: -86292409.58546798\n",
      "0_Median absolute diff: 3.934680932242881\n",
      "0_Kurtosis: -2.589748237622246\n",
      "0_ECDF Percentile_1: -2.2282462979302142\n",
      "0_MFCC_6: 1.9691631772180302\n",
      "--------------------------------------------------\n",
      "Top 5 Feature Changes:\n",
      "0_Median diff: -358932013.7626362\n",
      "0_Median absolute diff: 7.9093052053754045\n",
      "0_ECDF Percentile_1: -4.873449961496292\n",
      "0_Kurtosis: -4.48727131339304\n",
      "0_MFCC_2: -3.871592488349822\n",
      "Processing Class: 5\n"
     ]
    },
    {
     "name": "stderr",
     "output_type": "stream",
     "text": [
      "100%|██████████| 145/145 [00:15<00:00,  9.57it/s]\n",
      "100%|██████████| 145/145 [04:41<00:00,  1.94s/it]\n",
      "100%|██████████| 145/145 [22:40<00:00,  9.39s/it]\n"
     ]
    },
    {
     "name": "stdout",
     "output_type": "stream",
     "text": [
      "Total Class 5 run time: 1681.2077748775482\n",
      "3\n",
      "avg_diff is None for lstm in 3. No correct model predictions!\n",
      "--------------------------------------------------\n",
      "Top 5 Feature Changes:\n",
      "0_Median absolute diff: 2.7164233935521036\n",
      "0_Kurtosis: -2.6879129273942755\n",
      "0_Skewness: 1.2455947688776854\n",
      "0_Autocorrelation: 1.0297165977012839\n",
      "0_MFCC_1: 0.8290169237209009\n",
      "--------------------------------------------------\n",
      "Top 5 Feature Changes:\n",
      "0_Kurtosis: -4.544820271410124\n",
      "0_MFCC_1: 3.431124607352963\n",
      "0_MFCC_6: 3.2270545305209137\n",
      "0_ECDF Percentile_0: -2.96004022471681\n",
      "0_Median absolute diff: 2.145441075674289\n",
      "Processing Class: 6\n"
     ]
    },
    {
     "name": "stderr",
     "output_type": "stream",
     "text": [
      "100%|██████████| 145/145 [00:15<00:00,  9.51it/s]\n",
      "100%|██████████| 145/145 [04:46<00:00,  1.98s/it]\n",
      "100%|██████████| 145/145 [22:39<00:00,  9.38s/it]\n"
     ]
    },
    {
     "name": "stdout",
     "output_type": "stream",
     "text": [
      "Total Class 6 run time: 1689.5542902946472\n",
      "4\n",
      "avg_diff is None for lstm in 4. No correct model predictions!\n",
      "--------------------------------------------------\n",
      "Top 5 Feature Changes:\n",
      "0_Median diff: 7740774.126637617\n",
      "0_Median absolute diff: 1.755254441203068\n",
      "0_MFCC_3: -0.48453748580172856\n",
      "0_Negative turning points: 0.3009755765654262\n",
      "0_Positive turning points: 0.2954445768414129\n",
      "--------------------------------------------------\n",
      "Top 5 Feature Changes:\n",
      "0_Median diff: 326732.75039245316\n",
      "0_Spectrogram mean coefficient_0.0Hz: 2.0514139479511107\n",
      "0_Median absolute diff: 2.0347862556717287\n",
      "0_Spectrogram mean coefficient_3.23Hz: 1.4167214230940142\n",
      "0_MFCC_8: -1.3891629639011924\n",
      "Processing Class: 7\n"
     ]
    },
    {
     "name": "stderr",
     "output_type": "stream",
     "text": [
      "100%|██████████| 145/145 [00:15<00:00,  9.48it/s]\n",
      "100%|██████████| 145/145 [04:49<00:00,  2.00s/it]\n",
      "100%|██████████| 145/145 [22:33<00:00,  9.33s/it]\n"
     ]
    },
    {
     "name": "stdout",
     "output_type": "stream",
     "text": [
      "Total Class 7 run time: 1679.5895233154297\n",
      "5\n",
      "avg_diff is None for lstm in 5. No correct model predictions!\n",
      "--------------------------------------------------\n",
      "Top 5 Feature Changes:\n",
      "0_Median diff: -16089109.328267671\n",
      "0_MFCC_5: -10.64571642608967\n",
      "0_MFCC_3: 3.9263312169521023\n",
      "0_MFCC_6: -3.426581183090457\n",
      "0_MFCC_8: -3.019808538987164\n",
      "--------------------------------------------------\n",
      "Top 5 Feature Changes:\n",
      "0_Median diff: -42610261.346523374\n",
      "0_MFCC_2: 6.357695597139085\n",
      "0_Median absolute diff: 3.9809959014509655\n",
      "0_MFCC_5: -2.871659578483461\n",
      "0_Kurtosis: -2.410511043314108\n",
      "Processing Class: 8\n"
     ]
    },
    {
     "name": "stderr",
     "output_type": "stream",
     "text": [
      "100%|██████████| 145/145 [00:15<00:00,  9.57it/s]\n",
      "100%|██████████| 145/145 [04:31<00:00,  1.87s/it]\n",
      "100%|██████████| 145/145 [22:37<00:00,  9.36s/it]\n"
     ]
    },
    {
     "name": "stdout",
     "output_type": "stream",
     "text": [
      "Total Class 8 run time: 1670.433720588684\n",
      "6\n",
      "--------------------------------------------------\n",
      "Top 5 Feature Changes:\n",
      "0_MFCC_2: 130.57081359624397\n",
      "0_Histogram mode: -6.1988327581454925\n",
      "0_MFCC_10: -3.2799583288692538\n",
      "0_Human range energy: 2.8353595394276208\n",
      "0_Kurtosis: 2.4741406945914037\n",
      "--------------------------------------------------\n",
      "Top 5 Feature Changes:\n",
      "0_MFCC_2: 136.93353043623415\n",
      "0_Histogram mode: -6.683183007845281\n",
      "0_MFCC_10: -6.068356268688983\n",
      "0_MFCC_5: -1.8672247994965496\n",
      "0_MFCC_9: -0.4794808623193472\n",
      "--------------------------------------------------\n",
      "Top 5 Feature Changes:\n",
      "0_MFCC_2: 198.35538301649362\n",
      "0_Histogram mode: -9.707384658061054\n",
      "0_MFCC_10: -9.474807667831465\n",
      "0_Median absolute diff: 3.133563886252882\n",
      "0_MFCC_9: -2.9031775386577494\n",
      "Processing Class: 9\n"
     ]
    },
    {
     "name": "stderr",
     "output_type": "stream",
     "text": [
      "100%|██████████| 145/145 [00:15<00:00,  9.56it/s]\n",
      "100%|██████████| 145/145 [04:59<00:00,  2.06s/it]\n",
      "100%|██████████| 145/145 [22:36<00:00,  9.35s/it]\n"
     ]
    },
    {
     "name": "stdout",
     "output_type": "stream",
     "text": [
      "Total Class 9 run time: 1707.5432772636414\n",
      "7\n",
      "avg_diff is None for lstm in 7. No correct model predictions!\n",
      "--------------------------------------------------\n",
      "Top 5 Feature Changes:\n",
      "0_MFCC_9: -15.335939762870042\n",
      "0_MFCC_7: -13.974550671943573\n",
      "0_MFCC_11: -4.6747654608709786\n",
      "0_MFCC_1: 4.152423190337289\n",
      "0_Spectrogram mean coefficient_0.0Hz: 4.061713604248313\n",
      "--------------------------------------------------\n",
      "Top 5 Feature Changes:\n",
      "0_MFCC_9: -12.92155244951741\n",
      "0_MFCC_7: -11.537320188127941\n",
      "0_MFCC_11: -4.371102636279319\n",
      "0_MFCC_1: 3.9631733697165723\n",
      "0_Wavelet absolute mean_2.78Hz: 3.8581841043363534\n",
      "Processing Class: 10\n"
     ]
    },
    {
     "name": "stderr",
     "output_type": "stream",
     "text": [
      "100%|██████████| 145/145 [00:15<00:00,  9.47it/s]\n",
      "100%|██████████| 145/145 [05:05<00:00,  2.11s/it]\n",
      "100%|██████████| 145/145 [22:42<00:00,  9.39s/it]\n"
     ]
    },
    {
     "name": "stdout",
     "output_type": "stream",
     "text": [
      "Total Class 10 run time: 1734.871175289154\n",
      "8\n",
      "avg_diff is None for lstm in 8. No correct model predictions!\n",
      "--------------------------------------------------\n",
      "Top 5 Feature Changes:\n",
      "0_MFCC_2: 2.7736223811310685\n",
      "0_Median absolute diff: 1.6558876940208231\n",
      "0_MFCC_6: -1.642833863760891\n",
      "0_MFCC_9: -1.0099754962228065\n",
      "0_MFCC_8: -0.8720635576214019\n",
      "--------------------------------------------------\n",
      "Top 5 Feature Changes:\n",
      "0_MFCC_2: 67.54209054070299\n",
      "0_Median absolute diff: 2.0613282185540935\n",
      "0_MFCC_1: 1.6198733559859724\n",
      "0_Histogram mode: -0.8516837540323347\n",
      "0_MFCC_6: -0.7636941443893481\n",
      "Processing Class: 11\n"
     ]
    },
    {
     "name": "stderr",
     "output_type": "stream",
     "text": [
      "100%|██████████| 145/145 [00:15<00:00,  9.40it/s]\n",
      "100%|██████████| 145/145 [05:02<00:00,  2.09s/it]\n",
      "100%|██████████| 145/145 [22:37<00:00,  9.36s/it]\n"
     ]
    },
    {
     "name": "stdout",
     "output_type": "stream",
     "text": [
      "Total Class 11 run time: 1711.3157784938812\n",
      "9\n",
      "avg_diff is None for lstm in 9. No correct model predictions!\n",
      "--------------------------------------------------\n",
      "Top 5 Feature Changes:\n",
      "0_Median diff: 13152846.410898589\n",
      "0_MFCC_5: -10.129143153189775\n",
      "0_Median absolute diff: 8.101226280102837\n",
      "0_Kurtosis: -3.172351853536118\n",
      "0_MFCC_1: 1.0591011123717284\n",
      "--------------------------------------------------\n",
      "Top 5 Feature Changes:\n",
      "0_Median diff: 12855445.281782266\n",
      "0_MFCC_5: -12.69616735201969\n",
      "0_Median absolute diff: 7.867604188482514\n",
      "0_Kurtosis: -3.7273688997076535\n",
      "0_MFCC_2: 3.67781438013096\n",
      "----------------------------------------------------------------------\n",
      "Dataset Name: EOGVerticalSignal\n",
      "--------------------------------------------------\n",
      "X_train Shape: (579, 1, 1250)\n",
      "X_test Shape: (145, 1, 1250)\n",
      "y_train Counts: (array([ 0,  1,  2,  3,  4,  5,  6,  7,  8,  9, 10, 11], dtype=int64), array([54, 46, 48, 46, 49, 51, 49, 53, 51, 46, 39, 47], dtype=int64))\n",
      "y_test Counts: (array([ 0,  1,  2,  3,  4,  5,  6,  7,  8,  9, 10, 11], dtype=int64), array([ 6, 14, 13, 13, 11,  9, 11,  8, 10, 15, 21, 14], dtype=int64))\n",
      "--------------------------------------------------\n",
      "{'lstm': 0.1310344827586207, 'catch22': 0.6551724137931034, 'rocket': 0.7862068965517242}\n",
      "--------------------------------------------------\n",
      "Processing Class: 0\n"
     ]
    },
    {
     "name": "stderr",
     "output_type": "stream",
     "text": [
      "100%|██████████| 145/145 [00:15<00:00,  9.41it/s]\n",
      "100%|██████████| 145/145 [04:33<00:00,  1.89s/it]\n",
      "100%|██████████| 145/145 [22:34<00:00,  9.34s/it]\n"
     ]
    },
    {
     "name": "stdout",
     "output_type": "stream",
     "text": [
      "Total Class 0 run time: 1660.2256755828857\n",
      "1\n",
      "avg_diff is None for lstm in 1. No correct model predictions!\n",
      "--------------------------------------------------\n",
      "Top 5 Feature Changes:\n",
      "0_Spectral roll-on: 100000000.0\n",
      "0_Median absolute diff: 11.6337147417006\n",
      "0_Median diff: -7.139652236410195\n",
      "0_Spectral variation: 2.183568585680971\n",
      "0_MFCC_3: -1.2659780457836691\n",
      "--------------------------------------------------\n",
      "Top 5 Feature Changes:\n",
      "0_Wavelet absolute mean_8.33Hz: 23.967731791663\n",
      "0_Wavelet absolute mean_12.5Hz: 4.357392761705159\n",
      "0_MFCC_1: 4.14526684176862\n",
      "0_Spectral decrease: -2.969153859514371\n",
      "0_Wavelet absolute mean_25.0Hz: 2.9538345230407383\n",
      "Processing Class: 1\n"
     ]
    },
    {
     "name": "stderr",
     "output_type": "stream",
     "text": [
      "100%|██████████| 145/145 [00:15<00:00,  9.29it/s]\n",
      "100%|██████████| 145/145 [04:43<00:00,  1.96s/it]\n",
      "100%|██████████| 145/145 [22:36<00:00,  9.35s/it]\n"
     ]
    },
    {
     "name": "stdout",
     "output_type": "stream",
     "text": [
      "Total Class 1 run time: 1690.6627790927887\n",
      "10\n",
      "avg_diff is None for lstm in 10. No correct model predictions!\n",
      "--------------------------------------------------\n",
      "Top 5 Feature Changes:\n",
      "0_Median absolute diff: 3.062138447427021\n",
      "0_ECDF Percentile_1: 2.4729307494337114\n",
      "0_MFCC_3: -2.1201901826575402\n",
      "0_MFCC_1: 1.232746271244767\n",
      "0_Kurtosis: -1.008962700874815\n",
      "--------------------------------------------------\n",
      "Top 5 Feature Changes:\n",
      "0_ECDF Percentile_1: 24.070365871290257\n",
      "0_Histogram mode: -3.1387057595979226\n",
      "0_Median absolute diff: 2.864141683583517\n",
      "0_MFCC_3: -2.607463156429233\n",
      "0_Kurtosis: -1.6411820490886502\n",
      "Processing Class: 2\n"
     ]
    },
    {
     "name": "stderr",
     "output_type": "stream",
     "text": [
      "100%|██████████| 145/145 [00:15<00:00,  9.31it/s]\n",
      "100%|██████████| 145/145 [04:40<00:00,  1.93s/it]\n",
      "100%|██████████| 145/145 [22:36<00:00,  9.36s/it]\n"
     ]
    },
    {
     "name": "stdout",
     "output_type": "stream",
     "text": [
      "Total Class 2 run time: 1685.7343318462372\n",
      "11\n",
      "avg_diff is None for lstm in 11. No correct model predictions!\n",
      "--------------------------------------------------\n",
      "Top 5 Feature Changes:\n",
      "0_Wavelet absolute mean_12.5Hz: 6.223082190864226\n",
      "0_Wavelet absolute mean_8.33Hz: 5.538527791852542\n",
      "0_Wavelet absolute mean_25.0Hz: 5.160767554600874\n",
      "0_Wavelet absolute mean_6.25Hz: 4.210682509935221\n",
      "0_ECDF Percentile_1: 3.777771571165141\n",
      "--------------------------------------------------\n",
      "Top 5 Feature Changes:\n",
      "0_Spectral roll-on: 123076923.0\n",
      "0_Wavelet absolute mean_12.5Hz: 2.5219072686176127\n",
      "0_Wavelet absolute mean_8.33Hz: 2.264394156699127\n",
      "0_Wavelet absolute mean_25.0Hz: 2.0436792315164873\n",
      "0_Mean: 1.859654717732459\n",
      "Processing Class: 3\n"
     ]
    },
    {
     "name": "stderr",
     "output_type": "stream",
     "text": [
      "100%|██████████| 145/145 [00:15<00:00,  9.13it/s]\n",
      "100%|██████████| 145/145 [04:46<00:00,  1.98s/it]\n",
      "100%|██████████| 145/145 [22:40<00:00,  9.38s/it]\n"
     ]
    },
    {
     "name": "stdout",
     "output_type": "stream",
     "text": [
      "Total Class 3 run time: 1695.4463381767273\n",
      "12\n",
      "avg_diff is None for lstm in 12. No correct model predictions!\n",
      "--------------------------------------------------\n",
      "Top 5 Feature Changes:\n",
      "0_MFCC_6: -7.661499598967036\n",
      "0_Median absolute diff: 4.438919427870255\n",
      "0_Kurtosis: 1.7921331672522034\n",
      "0_MFCC_5: -1.178966588571406\n",
      "0_Spectral decrease: -1.0934349268031553\n",
      "--------------------------------------------------\n",
      "Top 5 Feature Changes:\n",
      "0_Median absolute diff: 34.01611221305768\n",
      "0_Median diff: -2.732974989975376\n",
      "0_MFCC_6: -2.4347368024701206\n",
      "0_MFCC_7: -1.39675574825444\n",
      "0_MFCC_4: 0.7588523204560662\n",
      "Processing Class: 4\n"
     ]
    },
    {
     "name": "stderr",
     "output_type": "stream",
     "text": [
      "100%|██████████| 145/145 [00:15<00:00,  9.18it/s]\n",
      "100%|██████████| 145/145 [04:57<00:00,  2.05s/it]\n",
      "100%|██████████| 145/145 [22:35<00:00,  9.35s/it]\n"
     ]
    },
    {
     "name": "stdout",
     "output_type": "stream",
     "text": [
      "Total Class 4 run time: 1696.2965638637543\n",
      "2\n",
      "avg_diff is None for lstm in 2. No correct model predictions!\n",
      "--------------------------------------------------\n",
      "Top 5 Feature Changes:\n",
      "0_MFCC_6: -5.740673985767288\n",
      "0_MFCC_0: 4.239601628414557\n",
      "0_Kurtosis: -3.7439730629513\n",
      "0_MFCC_4: 2.198899924102981\n",
      "0_Median absolute diff: 2.017326727828836\n",
      "--------------------------------------------------\n",
      "Top 5 Feature Changes:\n",
      "0_Median absolute diff: 24.270033792844508\n",
      "0_MFCC_6: -5.075670835496185\n",
      "0_Histogram mode: -4.838495289748043\n",
      "0_MFCC_0: 3.627242909129055\n",
      "0_Kurtosis: -3.5135837549502202\n",
      "Processing Class: 5\n"
     ]
    },
    {
     "name": "stderr",
     "output_type": "stream",
     "text": [
      "100%|██████████| 145/145 [00:15<00:00,  9.24it/s]\n",
      "100%|██████████| 145/145 [04:53<00:00,  2.03s/it]\n",
      "100%|██████████| 145/145 [22:41<00:00,  9.39s/it]\n"
     ]
    },
    {
     "name": "stdout",
     "output_type": "stream",
     "text": [
      "Total Class 5 run time: 1694.5335750579834\n",
      "3\n",
      "avg_diff is None for lstm in 3. No correct model predictions!\n",
      "--------------------------------------------------\n",
      "Top 5 Feature Changes:\n",
      "0_Histogram mode: -49.59529869288745\n",
      "0_Median absolute diff: 0.5948456592735396\n",
      "0_ECDF Percentile_1: -0.42232123733756555\n",
      "0_MFCC_9: -0.26184870105496233\n",
      "0_Power bandwidth: -0.09999999998749999\n",
      "--------------------------------------------------\n",
      "Top 5 Feature Changes:\n",
      "0_Median absolute diff: 1.8049504860233088\n",
      "0_Negative turning points: 0.21182266009841783\n",
      "0_Positive turning points: 0.21182266009841783\n",
      "0_ECDF Percentile_1: 0.21055072150397808\n",
      "0_Spectrogram mean coefficient_0.0Hz: -0.12226371108953814\n",
      "Processing Class: 6\n"
     ]
    },
    {
     "name": "stderr",
     "output_type": "stream",
     "text": [
      "100%|██████████| 145/145 [00:15<00:00,  9.27it/s]\n",
      "100%|██████████| 145/145 [04:55<00:00,  2.04s/it]\n",
      "100%|██████████| 145/145 [22:45<00:00,  9.42s/it]\n"
     ]
    },
    {
     "name": "stdout",
     "output_type": "stream",
     "text": [
      "Total Class 6 run time: 1704.694063425064\n",
      "4\n",
      "avg_diff is None for lstm in 4. No correct model predictions!\n",
      "--------------------------------------------------\n",
      "Top 5 Feature Changes:\n",
      "0_Histogram mode: -24.977282353032713\n",
      "0_MFCC_6: -19.243326578372802\n",
      "0_MFCC_4: 5.142031980778444\n",
      "0_Median absolute diff: 1.3044013363268365\n",
      "0_MFCC_7: -0.8523670948796769\n",
      "--------------------------------------------------\n",
      "Top 5 Feature Changes:\n",
      "0_Histogram mode: -16.009482338168883\n",
      "0_MFCC_6: -14.33952076120991\n",
      "0_ECDF Percentile_1: 6.179124780025131\n",
      "0_MFCC_4: 4.612594741065375\n",
      "0_Median absolute diff: 2.803234208076283\n",
      "Processing Class: 7\n"
     ]
    },
    {
     "name": "stderr",
     "output_type": "stream",
     "text": [
      "100%|██████████| 145/145 [00:15<00:00,  9.22it/s]\n",
      "100%|██████████| 145/145 [04:41<00:00,  1.94s/it]\n",
      "100%|██████████| 145/145 [22:39<00:00,  9.38s/it]\n"
     ]
    },
    {
     "name": "stdout",
     "output_type": "stream",
     "text": [
      "Total Class 7 run time: 1678.1239709854126\n",
      "5\n",
      "avg_diff is None for lstm in 5. No correct model predictions!\n",
      "--------------------------------------------------\n",
      "Top 5 Feature Changes:\n",
      "0_Median: 9.903742473747633\n",
      "0_Median absolute diff: 3.8021554513799867\n",
      "0_Autocorrelation: 2.2781918057618316\n",
      "0_MFCC_6: -1.5387773574068155\n",
      "0_MFCC_1: 1.426262995099445\n",
      "--------------------------------------------------\n",
      "Top 5 Feature Changes:\n",
      "0_Spectral roll-on: 30769230.692307692\n",
      "0_Wavelet absolute mean_12.5Hz: 13.151061908514901\n",
      "0_Median absolute diff: 3.6712897770001525\n",
      "0_Wavelet absolute mean_8.33Hz: 3.3833320684718604\n",
      "0_Wavelet absolute mean_6.25Hz: 1.9611861527395236\n",
      "Processing Class: 8\n"
     ]
    },
    {
     "name": "stderr",
     "output_type": "stream",
     "text": [
      "100%|██████████| 145/145 [00:15<00:00,  9.22it/s]\n",
      "100%|██████████| 145/145 [05:08<00:00,  2.13s/it]\n",
      "100%|██████████| 145/145 [22:35<00:00,  9.35s/it]\n"
     ]
    },
    {
     "name": "stdout",
     "output_type": "stream",
     "text": [
      "Total Class 8 run time: 1705.5408852100372\n",
      "6\n",
      "avg_diff is None for lstm in 6. No correct model predictions!\n",
      "--------------------------------------------------\n",
      "Top 5 Feature Changes:\n",
      "0_Histogram mode: -8.254821861411756\n",
      "0_Median absolute diff: 2.100413881721775\n",
      "0_MFCC_1: 0.9487845891584399\n",
      "0_MFCC_9: 0.931565244427405\n",
      "0_MFCC_3: -0.5237664770268676\n",
      "--------------------------------------------------\n",
      "Top 5 Feature Changes:\n",
      "0_Histogram mode: -19.87100508400127\n",
      "0_ECDF Percentile_1: 4.938798257838996\n",
      "0_Median absolute diff: 2.8999837953662184\n",
      "0_Kurtosis: -1.6191364397661876\n",
      "0_MFCC_1: 1.2647994693857614\n",
      "Processing Class: 9\n"
     ]
    },
    {
     "name": "stderr",
     "output_type": "stream",
     "text": [
      "100%|██████████| 145/145 [00:15<00:00,  9.23it/s]\n",
      "100%|██████████| 145/145 [04:49<00:00,  2.00s/it]\n",
      "100%|██████████| 145/145 [22:36<00:00,  9.36s/it]\n"
     ]
    },
    {
     "name": "stdout",
     "output_type": "stream",
     "text": [
      "Total Class 9 run time: 1700.0153322219849\n",
      "7\n",
      "avg_diff is None for lstm in 7. No correct model predictions!\n",
      "avg_diff is None for catch22 in 7. No correct model predictions!\n",
      "--------------------------------------------------\n",
      "Top 5 Feature Changes:\n",
      "0_Median absolute diff: 71.15709228049496\n",
      "0_Median diff: -4.8042902025896685\n",
      "0_MFCC_7: -3.4960790403484965\n",
      "0_MFCC_4: -0.9129437663842275\n",
      "0_Kurtosis: -0.6119082769806234\n",
      "Processing Class: 10\n"
     ]
    },
    {
     "name": "stderr",
     "output_type": "stream",
     "text": [
      "100%|██████████| 145/145 [00:16<00:00,  8.95it/s]\n",
      "100%|██████████| 145/145 [05:01<00:00,  2.08s/it]\n",
      "100%|██████████| 145/145 [22:37<00:00,  9.36s/it]\n"
     ]
    },
    {
     "name": "stdout",
     "output_type": "stream",
     "text": [
      "Total Class 10 run time: 1724.9951610565186\n",
      "8\n",
      "avg_diff is None for lstm in 8. No correct model predictions!\n",
      "--------------------------------------------------\n",
      "Top 5 Feature Changes:\n",
      "0_MFCC_9: 48.41709954009623\n",
      "0_MFCC_3: -5.473856319337063\n",
      "0_MFCC_5: -4.052102066075071\n",
      "0_ECDF Percentile_1: 0.896061530617693\n",
      "0_Median absolute diff: 0.677780251554406\n",
      "--------------------------------------------------\n",
      "Top 5 Feature Changes:\n",
      "0_MFCC_9: 11.561530056039137\n",
      "0_MFCC_5: -3.6223042019200915\n",
      "0_MFCC_3: -2.50236687503399\n",
      "0_Median absolute diff: 1.2477271128896663\n",
      "0_Histogram mode: -1.192661660642327\n",
      "Processing Class: 11\n"
     ]
    },
    {
     "name": "stderr",
     "output_type": "stream",
     "text": [
      "100%|██████████| 145/145 [00:15<00:00,  9.09it/s]\n",
      "100%|██████████| 145/145 [04:35<00:00,  1.90s/it]\n",
      "100%|██████████| 145/145 [22:37<00:00,  9.36s/it]\n"
     ]
    },
    {
     "name": "stdout",
     "output_type": "stream",
     "text": [
      "Total Class 11 run time: 1684.153599023819\n",
      "9\n",
      "avg_diff is None for lstm in 9. No correct model predictions!\n",
      "--------------------------------------------------\n",
      "Top 5 Feature Changes:\n",
      "0_Median absolute diff: 5.135285975068039\n",
      "0_MFCC_3: -3.887423132364016\n",
      "0_MFCC_1: 2.712377858488092\n",
      "0_MFCC_6: -1.283778749974916\n",
      "0_MFCC_11: -1.1772433969052862\n",
      "--------------------------------------------------\n",
      "Top 5 Feature Changes:\n",
      "0_Spectral roll-on: 133333333.33333333\n",
      "0_Wavelet absolute mean_12.5Hz: 21.893215687764098\n",
      "0_Wavelet absolute mean_8.33Hz: 5.750179313687215\n",
      "0_Wavelet absolute mean_6.25Hz: 3.373012578044768\n",
      "0_Wavelet absolute mean_25.0Hz: 2.7957724154971757\n",
      "----------------------------------------------------------------------\n",
      "Dataset Name: Epilepsy\n",
      "--------------------------------------------------\n",
      "X_train Shape: (220, 3, 206)\n",
      "X_test Shape: (55, 3, 206)\n",
      "y_train Counts: (array([0, 1, 2, 3], dtype=int64), array([54, 58, 47, 61], dtype=int64))\n",
      "y_test Counts: (array([0, 1, 2, 3], dtype=int64), array([14, 15, 13, 13], dtype=int64))\n",
      "--------------------------------------------------\n",
      "{'lstm': 0.7454545454545455, 'catch22': 0.9818181818181818, 'rocket': 0.9818181818181818}\n",
      "--------------------------------------------------\n",
      "Processing Class: 0\n"
     ]
    },
    {
     "name": "stderr",
     "output_type": "stream",
     "text": [
      "100%|██████████| 55/55 [00:05<00:00,  9.50it/s]\n",
      "100%|██████████| 55/55 [00:53<00:00,  1.04it/s]\n",
      "100%|██████████| 55/55 [04:22<00:00,  4.78s/it]\n"
     ]
    },
    {
     "name": "stdout",
     "output_type": "stream",
     "text": [
      "Total Class 0 run time: 322.6282274723053\n",
      "epilepsy\n",
      "--------------------------------------------------\n",
      "Top 5 Feature Changes:\n",
      "1_Zero crossing rate: 920000000000.0\n",
      "2_Median diff: 18811881.18811897\n",
      "0_Human range energy: 450.76781541508484\n",
      "0_Spectral skewness: 357.19543339642473\n",
      "2_Spectrogram mean coefficient_4.84Hz: 229.94257660432982\n",
      "--------------------------------------------------\n",
      "Top 5 Feature Changes:\n",
      "1_Zero crossing rate: 143200000000.12\n",
      "2_Zero crossing rate: 37600000000.65579\n",
      "2_Median diff: 46297029.580754966\n",
      "2_MFCC_9: 169.98112875693266\n",
      "2_Spectrogram mean coefficient_50.0Hz: 111.88461689616196\n",
      "--------------------------------------------------\n",
      "Top 5 Feature Changes:\n",
      "1_Zero crossing rate: 106333333333.57593\n",
      "2_Zero crossing rate: 14000000000.844288\n",
      "2_Median diff: 17194719.40100212\n",
      "2_MFCC_9: 139.838637303794\n",
      "2_Human range energy: 139.4692887184654\n",
      "Processing Class: 1\n"
     ]
    },
    {
     "name": "stderr",
     "output_type": "stream",
     "text": [
      "100%|██████████| 55/55 [00:05<00:00,  9.56it/s]\n",
      "100%|██████████| 55/55 [00:53<00:00,  1.03it/s]\n",
      "100%|██████████| 55/55 [04:22<00:00,  4.78s/it]\n"
     ]
    },
    {
     "name": "stdout",
     "output_type": "stream",
     "text": [
      "Total Class 1 run time: 322.9455575942993\n",
      "running\n",
      "--------------------------------------------------\n",
      "Top 5 Feature Changes:\n",
      "2_Zero crossing rate: 140000000000.0\n",
      "0_Median diff: 182920792.07920814\n",
      "2_Median diff: -122277227.72277239\n",
      "2_Spectrogram mean coefficient_17.74Hz: 119.75573738224908\n",
      "2_Spectrogram mean coefficient_45.16Hz: 90.95243586977672\n",
      "--------------------------------------------------\n",
      "Top 5 Feature Changes:\n",
      "2_Zero crossing rate: 32000000000.99255\n",
      "0_Spectral roll-on: 970873786.2744336\n",
      "2_Spectral roll-on: 161812297.7346278\n",
      "1_Median diff: 90429042.71941234\n",
      "0_Median diff: 75973597.98536852\n",
      "--------------------------------------------------\n",
      "Top 5 Feature Changes:\n",
      "2_Zero crossing rate: 18000000000.52691\n",
      "0_Spectral roll-on: 1132686084.0090613\n",
      "2_Spectral roll-on: 161812297.7346278\n",
      "1_Spectral roll-on: 161812297.56796116\n",
      "0_Median diff: 60627062.94928493\n",
      "Processing Class: 2\n"
     ]
    },
    {
     "name": "stderr",
     "output_type": "stream",
     "text": [
      "100%|██████████| 55/55 [00:05<00:00,  9.61it/s]\n",
      "100%|██████████| 55/55 [00:56<00:00,  1.02s/it]\n",
      "100%|██████████| 55/55 [04:22<00:00,  4.78s/it]\n"
     ]
    },
    {
     "name": "stdout",
     "output_type": "stream",
     "text": [
      "Total Class 2 run time: 325.4231204986572\n",
      "sawing\n",
      "--------------------------------------------------\n",
      "Top 5 Feature Changes:\n",
      "0_Median diff: 31683168.31683171\n",
      "2_Median diff: 29702970.29702973\n",
      "0_Spectrogram mean coefficient_22.58Hz: 576.743528021102\n",
      "0_MFCC_8: 285.5982493209342\n",
      "0_Spectrogram mean coefficient_24.19Hz: 231.99048430473286\n",
      "--------------------------------------------------\n",
      "Top 5 Feature Changes:\n",
      "0_Median frequency: 11389096341.314379\n",
      "0_Spectral roll-on: 560119492.1583271\n",
      "1_Median diff: 81264280.44108965\n",
      "2_Median diff: -11081493.324595917\n",
      "0_Median diff: 6702209.429550626\n",
      "--------------------------------------------------\n",
      "Top 5 Feature Changes:\n",
      "0_Median frequency: 9395552773.654356\n",
      "1_Zero crossing rate: 3225806451.1360893\n",
      "0_Zero crossing rate: 2580645164.992294\n",
      "0_Spectral roll-on: 313185092.38960224\n",
      "1_Median diff: 96358991.75180276\n",
      "Processing Class: 3\n"
     ]
    },
    {
     "name": "stderr",
     "output_type": "stream",
     "text": [
      "100%|██████████| 55/55 [00:05<00:00,  9.52it/s]\n",
      "100%|██████████| 55/55 [00:53<00:00,  1.02it/s]\n",
      "100%|██████████| 55/55 [04:22<00:00,  4.77s/it]\n"
     ]
    },
    {
     "name": "stdout",
     "output_type": "stream",
     "text": [
      "Total Class 3 run time: 322.9489665031433\n",
      "walking\n",
      "--------------------------------------------------\n",
      "Top 5 Feature Changes:\n",
      "1_Zero crossing rate: 7419354838.415233\n",
      "2_Zero crossing rate: 3225806452.641357\n",
      "2_Median diff: -9134461.999668956\n",
      "0_Median diff: -3768764.1738160104\n",
      "1_Median diff: 1181730.642130161\n",
      "--------------------------------------------------\n",
      "Top 5 Feature Changes:\n",
      "2_Zero crossing rate: 5517241380.0856\n",
      "1_Zero crossing rate: 4137931034.3390803\n",
      "1_Median frequency: 167392031.83345452\n",
      "2_Median diff: -7886650.923949647\n",
      "1_Median diff: -853533.8245427501\n",
      "--------------------------------------------------\n",
      "Top 5 Feature Changes:\n",
      "2_Zero crossing rate: 15172413795.074884\n",
      "1_Zero crossing rate: 8275862068.894636\n",
      "2_Spectral roll-on: 334784064.2785403\n",
      "1_Median frequency: 167392031.72198078\n",
      "2_Median diff: -12871287.524683021\n",
      "----------------------------------------------------------------------\n",
      "Dataset Name: CinCECGTorso\n",
      "--------------------------------------------------\n",
      "X_train Shape: (1136, 1, 1639)\n",
      "X_test Shape: (284, 1, 1639)\n",
      "y_train Counts: (array([0, 1, 2, 3], dtype=int64), array([279, 285, 294, 278], dtype=int64))\n",
      "y_test Counts: (array([0, 1, 2, 3], dtype=int64), array([76, 70, 61, 77], dtype=int64))\n",
      "--------------------------------------------------\n",
      "{'lstm': 0.9894366197183099, 'catch22': 0.9823943661971831, 'rocket': 1.0}\n",
      "--------------------------------------------------\n",
      "Processing Class: 0\n"
     ]
    },
    {
     "name": "stderr",
     "output_type": "stream",
     "text": [
      "100%|██████████| 284/284 [00:30<00:00,  9.32it/s]\n",
      "100%|██████████| 284/284 [10:22<00:00,  2.19s/it]\n",
      "100%|██████████| 284/284 [57:50<00:00, 12.22s/it]\n"
     ]
    },
    {
     "name": "stdout",
     "output_type": "stream",
     "text": [
      "Total Class 0 run time: 4636.951448917389\n",
      "1\n",
      "--------------------------------------------------\n",
      "Top 5 Feature Changes:\n",
      "0_Spectrogram mean coefficient_45.16Hz: 156.94417735993545\n",
      "0_Spectrogram mean coefficient_50.0Hz: 143.14324982625803\n",
      "0_Spectrogram mean coefficient_43.55Hz: 128.89656860018064\n",
      "0_Spectrogram mean coefficient_46.77Hz: 95.46667491295737\n",
      "0_Spectrogram mean coefficient_48.39Hz: 94.5953694282263\n",
      "--------------------------------------------------\n",
      "Top 5 Feature Changes:\n",
      "0_Spectrogram mean coefficient_45.16Hz: 110.07851419428737\n",
      "0_Spectrogram mean coefficient_50.0Hz: 102.31456947169063\n",
      "0_Spectrogram mean coefficient_43.55Hz: 91.04098249596048\n",
      "0_MFCC_8: -78.6794239321046\n",
      "0_Spectrogram mean coefficient_46.77Hz: 69.83289931575635\n",
      "--------------------------------------------------\n",
      "Top 5 Feature Changes:\n",
      "0_Spectrogram mean coefficient_45.16Hz: 101.63270153805314\n",
      "0_Spectrogram mean coefficient_50.0Hz: 91.36124028691452\n",
      "0_Spectrogram mean coefficient_43.55Hz: 81.72060354580633\n",
      "0_MFCC_8: -65.29921683327345\n",
      "0_Spectrogram mean coefficient_46.77Hz: 62.625697163431106\n",
      "Processing Class: 1\n"
     ]
    },
    {
     "name": "stderr",
     "output_type": "stream",
     "text": [
      "100%|██████████| 284/284 [00:30<00:00,  9.21it/s]\n",
      "100%|██████████| 284/284 [10:18<00:00,  2.18s/it]\n",
      "100%|██████████| 284/284 [57:51<00:00, 12.22s/it]\n"
     ]
    },
    {
     "name": "stdout",
     "output_type": "stream",
     "text": [
      "Total Class 1 run time: 4604.186121225357\n",
      "2\n",
      "--------------------------------------------------\n",
      "Top 5 Feature Changes:\n",
      "0_MFCC_8: -478.17770771375956\n",
      "0_MFCC_0: 19.955397121624372\n",
      "0_MFCC_3: 11.01753891676095\n",
      "0_MFCC_5: -6.382918111794006\n",
      "0_MFCC_10: -4.332603354748054\n",
      "--------------------------------------------------\n",
      "Top 5 Feature Changes:\n",
      "0_MFCC_8: -452.18103721958266\n",
      "0_MFCC_0: 18.501945001260225\n",
      "0_MFCC_3: 9.354275709355358\n",
      "0_MFCC_10: -3.0614913365736496\n",
      "0_MFCC_5: -3.0456620841008024\n",
      "--------------------------------------------------\n",
      "Top 5 Feature Changes:\n",
      "0_MFCC_8: -280.16210372631457\n",
      "0_MFCC_0: 10.737797271734912\n",
      "0_MFCC_3: 4.264706569158776\n",
      "0_MFCC_10: -2.8866573739175325\n",
      "0_Median diff: -2.2877825747035345\n",
      "Processing Class: 2\n"
     ]
    },
    {
     "name": "stderr",
     "output_type": "stream",
     "text": [
      "100%|██████████| 284/284 [00:31<00:00,  9.09it/s]\n",
      "100%|██████████| 284/284 [11:00<00:00,  2.32s/it]\n",
      "100%|██████████| 284/284 [58:28<00:00, 12.35s/it]\n"
     ]
    },
    {
     "name": "stdout",
     "output_type": "stream",
     "text": [
      "Total Class 2 run time: 4640.598844528198\n",
      "3\n",
      "--------------------------------------------------\n",
      "Top 5 Feature Changes:\n",
      "0_Median diff: -1019251.6482236843\n",
      "0_Wavelet absolute mean_5.0Hz: 7.4123709721759825\n",
      "0_ECDF Percentile_1: 4.469517213313653\n",
      "0_Wavelet absolute mean_4.17Hz: 3.9095518699798695\n",
      "0_Wavelet absolute mean_2.78Hz: 2.1158717587575078\n",
      "--------------------------------------------------\n",
      "Top 5 Feature Changes:\n",
      "0_Median diff: -922243.5352359044\n",
      "0_Wavelet absolute mean_5.0Hz: 5.165862657577079\n",
      "0_ECDF Percentile_1: 3.6327053943328766\n",
      "0_Wavelet absolute mean_4.17Hz: 3.393182897607596\n",
      "0_ECDF Percentile_0: -1.6975286160305345\n",
      "--------------------------------------------------\n",
      "Top 5 Feature Changes:\n",
      "0_Median diff: -1184839.7670355022\n",
      "0_Wavelet absolute mean_5.0Hz: 8.568005748316494\n",
      "0_ECDF Percentile_1: 5.111483008692779\n",
      "0_Wavelet absolute mean_4.17Hz: 4.580380573777152\n",
      "0_Wavelet absolute mean_2.78Hz: 2.431352270400173\n",
      "Processing Class: 3\n"
     ]
    },
    {
     "name": "stderr",
     "output_type": "stream",
     "text": [
      "100%|██████████| 284/284 [00:36<00:00,  7.78it/s]\n",
      "100%|██████████| 284/284 [12:27<00:00,  2.63s/it]\n",
      "100%|██████████| 284/284 [1:05:35<00:00, 13.86s/it]\n"
     ]
    },
    {
     "name": "stdout",
     "output_type": "stream",
     "text": [
      "Total Class 3 run time: 5311.894508361816\n",
      "4\n",
      "--------------------------------------------------\n",
      "Top 5 Feature Changes:\n",
      "0_Mean diff: -5.911014000726335\n",
      "0_Histogram mode: 2.4568822378910924\n",
      "0_MFCC_6: -1.8589170345566086\n",
      "0_MFCC_7: -1.6785068438398503\n",
      "0_Slope: 1.403460485616561\n",
      "--------------------------------------------------\n",
      "Top 5 Feature Changes:\n",
      "0_Mean diff: -6.922701900663098\n",
      "0_Histogram mode: 2.6504467196758115\n",
      "0_MFCC_6: -1.9521000796439516\n",
      "0_Spectrogram mean coefficient_33.87Hz: 1.701341012236445\n",
      "0_MFCC_7: -1.6264422888482597\n",
      "--------------------------------------------------\n",
      "Top 5 Feature Changes:\n",
      "0_Mean diff: -6.9431236000236405\n",
      "0_Histogram mode: 2.661572083519119\n",
      "0_Median diff: 1.7536659695655041\n",
      "0_MFCC_6: -1.661932026407141\n",
      "0_MFCC_7: -1.519303028767443\n",
      "----------------------------------------------------------------------\n",
      "Dataset Name: ECG5000\n",
      "--------------------------------------------------\n",
      "X_train Shape: (4000, 1, 140)\n",
      "X_test Shape: (1000, 1, 140)\n",
      "y_train Counts: (array([0, 1, 2, 3, 4], dtype=int64), array([2333, 1414,   78,  156,   19], dtype=int64))\n",
      "y_test Counts: (array([0, 1, 2, 3, 4], dtype=int64), array([586, 353,  18,  38,   5], dtype=int64))\n",
      "--------------------------------------------------\n",
      "{'lstm': 0.953, 'catch22': 0.952, 'rocket': 0.942}\n",
      "--------------------------------------------------\n",
      "Processing Class: 0\n"
     ]
    },
    {
     "name": "stderr",
     "output_type": "stream",
     "text": [
      "100%|██████████| 1000/1000 [02:24<00:00,  6.94it/s]\n",
      "100%|██████████| 1000/1000 [04:16<00:00,  3.90it/s]\n",
      "100%|██████████| 1000/1000 [24:27<00:00,  1.47s/it]\n"
     ]
    },
    {
     "name": "stdout",
     "output_type": "stream",
     "text": [
      "Total Class 0 run time: 1939.1016097068787\n",
      "1\n",
      "--------------------------------------------------\n",
      "Top 5 Feature Changes:\n",
      "0_Wavelet entropy: 968823158.3993889\n",
      "0_LPCC_4: 18.574494583586905\n",
      "0_LPCC_8: 18.574494583586905\n",
      "0_Median diff: 3.406380823606875\n",
      "0_MFCC_1: 2.158262037102947\n",
      "--------------------------------------------------\n",
      "Top 5 Feature Changes:\n",
      "0_LPCC_4: 64.73473604910413\n",
      "0_LPCC_8: 64.73473604910413\n",
      "0_Histogram mode: -9.78534232529163\n",
      "0_LPCC_6: 2.0837238959753677\n",
      "0_MFCC_2: 2.0456785806836315\n",
      "--------------------------------------------------\n",
      "Top 5 Feature Changes:\n",
      "0_Wavelet entropy: 998025701.1240242\n",
      "0_LPCC_4: 14.235206968070301\n",
      "0_LPCC_8: 14.235206968070301\n",
      "0_MFCC_7: -2.7878049617826073\n",
      "0_Median diff: 2.6386815544469147\n",
      "Processing Class: 1\n"
     ]
    },
    {
     "name": "stderr",
     "output_type": "stream",
     "text": [
      "100%|██████████| 1000/1000 [02:13<00:00,  7.52it/s]\n",
      "100%|██████████| 1000/1000 [03:51<00:00,  4.33it/s]\n",
      "100%|██████████| 1000/1000 [21:44<00:00,  1.30s/it]\n"
     ]
    },
    {
     "name": "stdout",
     "output_type": "stream",
     "text": [
      "Total Class 1 run time: 1722.8527739048004\n",
      "2\n",
      "--------------------------------------------------\n",
      "Top 5 Feature Changes:\n",
      "0_MFCC_2: 8.026107918749977\n",
      "0_Wavelet absolute mean_3.57Hz: 4.885865917542713\n",
      "0_Wavelet absolute mean_3.12Hz: 2.3514893060018327\n",
      "0_LPCC_6: 2.050460470887628\n",
      "0_Spectrogram mean coefficient_25.81Hz: 1.247751049152108\n",
      "--------------------------------------------------\n",
      "Top 5 Feature Changes:\n",
      "0_MFCC_2: 34.93883651939047\n",
      "0_MFCC_1: 9.944050625887987\n",
      "0_Wavelet absolute mean_3.57Hz: 6.923641326564\n",
      "0_Spectrogram mean coefficient_25.81Hz: 1.0953711054222899\n",
      "0_Power bandwidth: 0.99999999986\n",
      "--------------------------------------------------\n",
      "Top 5 Feature Changes:\n",
      "0_LPCC_0: 4.31742426218189\n",
      "0_MFCC_2: -3.0224155207886887\n",
      "0_Spectrogram mean coefficient_46.77Hz: 2.6340316128688355\n",
      "0_LPCC_5: 1.6454494108825968\n",
      "0_LPCC_7: 1.6454494108825952\n",
      "Processing Class: 2\n"
     ]
    },
    {
     "name": "stderr",
     "output_type": "stream",
     "text": [
      "100%|██████████| 1000/1000 [01:57<00:00,  8.52it/s]\n",
      "100%|██████████| 1000/1000 [03:39<00:00,  4.55it/s]\n",
      "100%|██████████| 1000/1000 [22:03<00:00,  1.32s/it]\n"
     ]
    },
    {
     "name": "stdout",
     "output_type": "stream",
     "text": [
      "Total Class 2 run time: 1664.6002345085144\n",
      "3\n",
      "--------------------------------------------------\n",
      "Top 5 Feature Changes:\n",
      "0_Median diff: 479887.9683321139\n",
      "0_Spectrogram mean coefficient_50.0Hz: 258.93293644127635\n",
      "0_Spectrogram mean coefficient_48.39Hz: 67.5879805167685\n",
      "0_Spectrogram mean coefficient_46.77Hz: 25.784921607831876\n",
      "0_MFCC_11: -16.660532475685486\n",
      "--------------------------------------------------\n",
      "Top 5 Feature Changes:\n",
      "0_Median diff: 799953.2143686209\n",
      "0_Spectrogram mean coefficient_50.0Hz: 48.21749751506284\n",
      "0_MFCC_4: -8.363057643386487\n",
      "0_Spectrogram mean coefficient_45.16Hz: 7.071701782038688\n",
      "0_Spectrogram mean coefficient_48.39Hz: 7.018435523387441\n",
      "--------------------------------------------------\n",
      "Top 5 Feature Changes:\n",
      "0_Median diff: 425376.63901184994\n",
      "0_Spectrogram mean coefficient_50.0Hz: 152.13470599207824\n",
      "0_Spectrogram mean coefficient_48.39Hz: 40.10413663715974\n",
      "0_Spectrogram mean coefficient_46.77Hz: 13.995382107378576\n",
      "0_MFCC_11: -10.63658026095382\n",
      "Processing Class: 3\n"
     ]
    },
    {
     "name": "stderr",
     "output_type": "stream",
     "text": [
      "100%|██████████| 1000/1000 [02:16<00:00,  7.31it/s]\n",
      "100%|██████████| 1000/1000 [03:43<00:00,  4.47it/s]\n",
      "100%|██████████| 1000/1000 [21:19<00:00,  1.28s/it]\n"
     ]
    },
    {
     "name": "stdout",
     "output_type": "stream",
     "text": [
      "Total Class 3 run time: 1649.249338388443\n",
      "4\n",
      "--------------------------------------------------\n",
      "Top 5 Feature Changes:\n",
      "0_Median diff: 3123135.023826807\n",
      "0_MFCC_9: -36.394920741726914\n",
      "0_MFCC_4: -18.939561668396998\n",
      "0_MFCC_11: -14.54081814150869\n",
      "0_MFCC_8: -7.209199357741458\n",
      "--------------------------------------------------\n",
      "Top 5 Feature Changes:\n",
      "0_MFCC_8: 4.550073187167775\n",
      "0_MFCC_6: -3.603601695284359\n",
      "0_MFCC_1: 3.450276395960464\n",
      "0_MFCC_4: -2.1752314117507203\n",
      "0_MFCC_10: -2.1335272387049855\n",
      "--------------------------------------------------\n",
      "Top 5 Feature Changes:\n",
      "0_Median diff: 2296258.8838299527\n",
      "0_MFCC_4: -30.43377725852667\n",
      "0_MFCC_9: -11.156382884212318\n",
      "0_MFCC_10: -10.564466056793169\n",
      "0_MFCC_11: -9.78881236503736\n",
      "Processing Class: 4\n"
     ]
    },
    {
     "name": "stderr",
     "output_type": "stream",
     "text": [
      "100%|██████████| 1000/1000 [01:59<00:00,  8.40it/s]\n",
      "100%|██████████| 1000/1000 [03:38<00:00,  4.58it/s]\n",
      "100%|██████████| 1000/1000 [22:41<00:00,  1.36s/it]\n"
     ]
    },
    {
     "name": "stdout",
     "output_type": "stream",
     "text": [
      "Total Class 4 run time: 1700.4540088176727\n",
      "5\n",
      "avg_diff is None for lstm in 5. No correct model predictions!\n",
      "avg_diff is None for catch22 in 5. No correct model predictions!\n",
      "--------------------------------------------------\n",
      "Top 5 Feature Changes:\n",
      "0_MFCC_7: -9.927195915178208\n",
      "0_MFCC_2: -7.6679772927405745\n",
      "0_LPCC_6: 6.845124727258185\n",
      "0_Median: 6.210061433830939\n",
      "0_LPCC_5: 5.461340614736488\n",
      "----------------------------------------------------------------------\n",
      "Dataset Name: ECGFiveDays\n",
      "--------------------------------------------------\n",
      "X_train Shape: (707, 1, 136)\n",
      "X_test Shape: (177, 1, 136)\n",
      "y_train Counts: (array([0, 1], dtype=int64), array([356, 351], dtype=int64))\n",
      "y_test Counts: (array([0, 1], dtype=int64), array([86, 91], dtype=int64))\n",
      "--------------------------------------------------\n",
      "{'lstm': 1.0, 'catch22': 0.9887005649717514, 'rocket': 1.0}\n",
      "--------------------------------------------------\n",
      "Processing Class: 0\n"
     ]
    },
    {
     "name": "stderr",
     "output_type": "stream",
     "text": [
      "100%|██████████| 177/177 [00:24<00:00,  7.27it/s]\n",
      "100%|██████████| 177/177 [00:40<00:00,  4.39it/s]\n",
      "100%|██████████| 177/177 [03:58<00:00,  1.35s/it]\n"
     ]
    },
    {
     "name": "stdout",
     "output_type": "stream",
     "text": [
      "Total Class 0 run time: 306.13599610328674\n",
      "1\n",
      "--------------------------------------------------\n",
      "Top 5 Feature Changes:\n",
      "0_Median diff: 541836.3648825696\n",
      "0_Median: 32.65745312316201\n",
      "0_Wavelet absolute mean_5.0Hz: 4.357205681829176\n",
      "0_LPCC_4: 4.026889307045335\n",
      "0_LPCC_8: 4.026889307045335\n",
      "--------------------------------------------------\n",
      "Top 5 Feature Changes:\n",
      "0_Median diff: 3661320.016312857\n",
      "0_Median: 36.07161208000136\n",
      "0_Wavelet absolute mean_5.0Hz: 6.742240480696793\n",
      "0_Wavelet absolute mean_25.0Hz: 6.232048057900587\n",
      "0_Spectrogram mean coefficient_50.0Hz: 5.195970819844343\n",
      "--------------------------------------------------\n",
      "Top 5 Feature Changes:\n",
      "0_Median diff: 59834.24944879123\n",
      "0_Median: 31.58571870650471\n",
      "0_Wavelet absolute mean_5.0Hz: 4.986701761156831\n",
      "0_Wavelet absolute mean_25.0Hz: 4.630786457372682\n",
      "0_LPCC_4: 4.277971103886327\n",
      "Processing Class: 1\n"
     ]
    },
    {
     "name": "stderr",
     "output_type": "stream",
     "text": [
      "100%|██████████| 177/177 [00:24<00:00,  7.22it/s]\n",
      "100%|██████████| 177/177 [00:40<00:00,  4.39it/s]\n",
      "100%|██████████| 177/177 [03:56<00:00,  1.33s/it]\n"
     ]
    },
    {
     "name": "stdout",
     "output_type": "stream",
     "text": [
      "Total Class 1 run time: 303.8021020889282\n",
      "2\n",
      "--------------------------------------------------\n",
      "Top 5 Feature Changes:\n",
      "0_Median diff: 3647585.2313293503\n",
      "0_MFCC_8: -64.76705122657557\n",
      "0_Histogram mode: -7.256092330914086\n",
      "0_MFCC_9: -6.788671724126959\n",
      "0_MFCC_3: -5.683627599599906\n",
      "--------------------------------------------------\n",
      "Top 5 Feature Changes:\n",
      "0_Median diff: 6193098.600838616\n",
      "0_MFCC_8: -50.61930778839795\n",
      "0_Histogram mode: -9.63513788539773\n",
      "0_MFCC_9: -5.753373887653168\n",
      "0_MFCC_11: -3.2590012649054705\n",
      "--------------------------------------------------\n",
      "Top 5 Feature Changes:\n",
      "0_Median diff: 4077947.6234620526\n",
      "0_MFCC_8: -32.55719821449325\n",
      "0_Histogram mode: -9.92256498688441\n",
      "0_MFCC_9: -6.253527668002614\n",
      "0_MFCC_3: -5.530584997549767\n",
      "----------------------------------------------------------------------\n",
      "Dataset Name: StandWalkJump\n",
      "--------------------------------------------------\n",
      "X_train Shape: (21, 4, 2500)\n",
      "X_test Shape: (6, 4, 2500)\n",
      "y_train Counts: (array([0, 1, 2], dtype=int64), array([6, 7, 8], dtype=int64))\n",
      "y_test Counts: (array([0, 1, 2], dtype=int64), array([3, 2, 1], dtype=int64))\n",
      "--------------------------------------------------\n",
      "{'lstm': 0.6666666666666666, 'catch22': 0.5, 'rocket': 0.16666666666666666}\n",
      "--------------------------------------------------\n",
      "Processing Class: 0\n"
     ]
    },
    {
     "name": "stderr",
     "output_type": "stream",
     "text": [
      "100%|██████████| 6/6 [00:01<00:00,  4.19it/s]\n",
      "100%|██████████| 6/6 [02:58<00:00, 29.78s/it]\n",
      "100%|██████████| 6/6 [07:08<00:00, 71.37s/it]\n"
     ]
    },
    {
     "name": "stdout",
     "output_type": "stream",
     "text": [
      "Total Class 0 run time: 611.3617351055145\n",
      "jumping\n",
      "--------------------------------------------------\n",
      "Top 5 Feature Changes:\n",
      "0_Median: -55569307.43564356\n",
      "2_Median: 53217821.929042906\n",
      "0_Median diff: 3217821.7821782203\n",
      "1_Median diff: 3217821.7821782203\n",
      "3_Median diff: 3217821.7821782045\n",
      "--------------------------------------------------\n",
      "Top 5 Feature Changes:\n",
      "0_Median: 100990099.00990099\n",
      "2_Median: 97524752.47524747\n",
      "1_Mean diff: -3071327.536141641\n",
      "3_Median diff: -990099.009900991\n",
      "1_Wavelet absolute mean_2.78Hz: 29.32383202510273\n",
      "avg_diff is None for rocket in jumping. No correct model predictions!\n",
      "Processing Class: 1\n"
     ]
    },
    {
     "name": "stderr",
     "output_type": "stream",
     "text": [
      "100%|██████████| 6/6 [00:01<00:00,  3.11it/s]\n",
      "100%|██████████| 6/6 [02:57<00:00, 29.58s/it]\n",
      "100%|██████████| 6/6 [06:50<00:00, 68.44s/it]\n"
     ]
    },
    {
     "name": "stdout",
     "output_type": "stream",
     "text": [
      "Total Class 1 run time: 594.1245412826538\n",
      "standing\n",
      "--------------------------------------------------\n",
      "Top 5 Feature Changes:\n",
      "3_ECDF Percentile_1: 289504950.4086908\n",
      "1_Median: -84554455.36501649\n",
      "2_Median: 10198019.498019801\n",
      "3_Median diff: 4554455.445544545\n",
      "2_Median diff: -2376237.623762378\n",
      "--------------------------------------------------\n",
      "Top 5 Feature Changes:\n",
      "3_Histogram mode: -171.57422311089772\n",
      "1_Spectral decrease: 58.53884105482674\n",
      "2_MFCC_6: 13.755271227123615\n",
      "2_Max power spectrum: 12.755579895777968\n",
      "1_MFCC_6: 10.795238372540583\n",
      "avg_diff is None for rocket in standing. No correct model predictions!\n",
      "Processing Class: 2\n"
     ]
    },
    {
     "name": "stderr",
     "output_type": "stream",
     "text": [
      "100%|██████████| 5/5 [00:01<00:00,  4.81it/s]\n",
      "100%|██████████| 5/5 [02:20<00:00, 28.03s/it]\n",
      "100%|██████████| 5/5 [05:42<00:00, 68.48s/it]\n"
     ]
    },
    {
     "name": "stdout",
     "output_type": "stream",
     "text": [
      "Total Class 2 run time: 485.2788972854614\n",
      "walking\n",
      "avg_diff is None for lstm in walking. No correct model predictions!\n",
      "--------------------------------------------------\n",
      "Top 5 Feature Changes:\n",
      "3_Median diff: -32673267.32673256\n",
      "3_Histogram mode: -48.534643758417666\n",
      "1_MFCC_3: 14.581709450159654\n",
      "2_MFCC_6: -11.38379851314951\n",
      "3_Wavelet absolute mean_12.5Hz: 8.623027934284936\n",
      "avg_diff is None for rocket in walking. No correct model predictions!\n",
      "----------------------------------------------------------------------\n",
      "Dataset Name: TwoLeadECG\n",
      "--------------------------------------------------\n",
      "X_train Shape: (929, 1, 82)\n",
      "X_test Shape: (233, 1, 82)\n",
      "y_train Counts: (array([0, 1], dtype=int64), array([466, 463], dtype=int64))\n",
      "y_test Counts: (array([0, 1], dtype=int64), array([115, 118], dtype=int64))\n",
      "--------------------------------------------------\n",
      "{'lstm': 0.9914163090128756, 'catch22': 0.9699570815450643, 'rocket': 1.0}\n",
      "--------------------------------------------------\n",
      "Processing Class: 0\n"
     ]
    },
    {
     "name": "stderr",
     "output_type": "stream",
     "text": [
      "100%|██████████| 233/233 [00:31<00:00,  7.34it/s]\n",
      "100%|██████████| 233/233 [00:31<00:00,  7.34it/s]\n",
      "100%|██████████| 233/233 [03:28<00:00,  1.12it/s]\n"
     ]
    },
    {
     "name": "stdout",
     "output_type": "stream",
     "text": [
      "Total Class 0 run time: 274.2443974018097\n",
      "1\n",
      "--------------------------------------------------\n",
      "Top 5 Feature Changes:\n",
      "0_Neighbourhood peaks: 1000000000.1469696\n",
      "0_Median diff: 15574657.040713774\n",
      "0_Mean diff: 35715.688973399156\n",
      "0_MFCC_1: 12.329505013798512\n",
      "0_Spectrogram mean coefficient_37.1Hz: 2.6080345334743553\n",
      "--------------------------------------------------\n",
      "Top 5 Feature Changes:\n",
      "0_Neighbourhood peaks: 1111111111.310606\n",
      "0_Median diff: 13329494.943754667\n",
      "0_Mean diff: 49877.4116987321\n",
      "0_MFCC_1: 2.5550516341287244\n",
      "0_Spectrogram mean coefficient_50.0Hz: 1.578528161267197\n",
      "--------------------------------------------------\n",
      "Top 5 Feature Changes:\n",
      "0_Neighbourhood peaks: 1158798283.5071528\n",
      "0_Median diff: 18605678.45824769\n",
      "0_Mean diff: 18120.927375549225\n",
      "0_MFCC_1: 13.545184972530885\n",
      "0_LPCC_9: 4.153991869446427\n",
      "Processing Class: 1\n"
     ]
    },
    {
     "name": "stderr",
     "output_type": "stream",
     "text": [
      "100%|██████████| 233/233 [00:30<00:00,  7.73it/s]\n",
      "100%|██████████| 233/233 [00:32<00:00,  7.27it/s]\n",
      "100%|██████████| 233/233 [03:37<00:00,  1.07it/s]\n"
     ]
    },
    {
     "name": "stdout",
     "output_type": "stream",
     "text": [
      "Total Class 1 run time: 281.51066541671753\n",
      "2\n",
      "--------------------------------------------------\n",
      "Top 5 Feature Changes:\n",
      "0_Median diff: 21482241.40943135\n",
      "0_Median: -1210889.5521757663\n",
      "0_Mean diff: 35000.435136606284\n",
      "0_Spectrogram mean coefficient_50.0Hz: 1265.7275330267178\n",
      "0_MFCC_3: -9.536442801747487\n",
      "--------------------------------------------------\n",
      "Top 5 Feature Changes:\n",
      "0_Median diff: 23206145.99627516\n",
      "0_Median: -1307558.937772445\n",
      "0_Mean diff: 109368.97374874238\n",
      "0_Spectrogram mean coefficient_50.0Hz: 1787.5608667639938\n",
      "0_MFCC_7: 12.081291504816969\n",
      "--------------------------------------------------\n",
      "Top 5 Feature Changes:\n",
      "0_Median diff: 17356870.42316755\n",
      "0_Median: -918997.316463386\n",
      "0_Mean diff: 52200.55043027085\n",
      "0_Spectrogram mean coefficient_50.0Hz: 1034.1001275329888\n",
      "0_MFCC_3: -9.651120189187896\n",
      "----------------------------------------------------------------------\n",
      "Dataset Name: NerveDamage\n",
      "--------------------------------------------------\n",
      "X_train Shape: (163, 1, 1500)\n",
      "X_test Shape: (41, 1, 1500)\n",
      "y_train Counts: (array([0, 1, 2], dtype=int64), array([27, 58, 78], dtype=int64))\n",
      "y_test Counts: (array([0, 1, 2], dtype=int64), array([ 6, 15, 20], dtype=int64))\n",
      "--------------------------------------------------\n",
      "{'lstm': 0.3902439024390244, 'catch22': 1.0, 'rocket': 1.0}\n",
      "--------------------------------------------------\n",
      "Processing Class: 0\n"
     ]
    },
    {
     "name": "stderr",
     "output_type": "stream",
     "text": [
      "100%|██████████| 41/41 [00:06<00:00,  6.64it/s]\n",
      "100%|██████████| 41/41 [02:01<00:00,  2.97s/it]\n",
      "100%|██████████| 41/41 [08:18<00:00, 12.16s/it]\n"
     ]
    },
    {
     "name": "stdout",
     "output_type": "stream",
     "text": [
      "Total Class 0 run time: 632.6951332092285\n",
      "0\n",
      "--------------------------------------------------\n",
      "Top 5 Feature Changes:\n",
      "0_Median diff: 145058.95941570928\n",
      "0_Slope: -33.98213450952733\n",
      "0_Wavelet absolute mean_6.25Hz: 21.799439247035814\n",
      "0_LPCC_0: 15.689441281439295\n",
      "0_Wavelet absolute mean_5.0Hz: 12.990481409837406\n",
      "--------------------------------------------------\n",
      "Top 5 Feature Changes:\n",
      "0_Median diff: 269157.8813592589\n",
      "0_Wavelet absolute mean_6.25Hz: 19.674009867692845\n",
      "0_LPCC_0: 17.88814897190582\n",
      "0_Slope: -16.768094042837806\n",
      "0_Wavelet absolute mean_5.0Hz: 14.742803906426266\n",
      "--------------------------------------------------\n",
      "Top 5 Feature Changes:\n",
      "0_Median diff: 361339.3888540421\n",
      "0_Wavelet absolute mean_6.25Hz: 13.161945869435735\n",
      "0_Slope: -12.262696959320488\n",
      "0_Wavelet absolute mean_5.0Hz: 11.44950311246311\n",
      "0_LPCC_0: 9.532543308554287\n",
      "Processing Class: 1\n"
     ]
    },
    {
     "name": "stderr",
     "output_type": "stream",
     "text": [
      "100%|██████████| 41/41 [00:06<00:00,  6.25it/s]\n",
      "100%|██████████| 41/41 [02:07<00:00,  3.12s/it]\n",
      "100%|██████████| 41/41 [08:11<00:00, 11.99s/it]\n"
     ]
    },
    {
     "name": "stdout",
     "output_type": "stream",
     "text": [
      "Total Class 1 run time: 639.9397242069244\n",
      "1\n",
      "--------------------------------------------------\n",
      "Top 5 Feature Changes:\n",
      "0_Median diff: 295743.8601002957\n",
      "0_MFCC_8: 4.737749588756237\n",
      "0_Spectrogram mean coefficient_22.58Hz: 3.4651644946191924\n",
      "0_Spectrogram mean coefficient_24.19Hz: 2.235065661752997\n",
      "0_Spectrogram mean coefficient_19.35Hz: 2.186969304249175\n",
      "--------------------------------------------------\n",
      "Top 5 Feature Changes:\n",
      "0_Median diff: 375860.7568073881\n",
      "0_MFCC_4: 18.019491671624948\n",
      "0_MFCC_8: 1.7590264239253073\n",
      "0_Wavelet absolute mean_3.12Hz: 1.3438109246541068\n",
      "0_MFCC_11: 0.9440547566676734\n",
      "--------------------------------------------------\n",
      "Top 5 Feature Changes:\n",
      "0_Median diff: 509250.6201839709\n",
      "0_MFCC_4: 22.050619261621005\n",
      "0_Wavelet absolute mean_3.12Hz: 4.997159512264192\n",
      "0_Wavelet absolute mean_2.78Hz: 3.382978895937258\n",
      "0_Spectrogram mean coefficient_22.58Hz: 2.530634741369456\n",
      "Processing Class: 2\n"
     ]
    },
    {
     "name": "stderr",
     "output_type": "stream",
     "text": [
      "100%|██████████| 41/41 [00:09<00:00,  4.45it/s]\n",
      "100%|██████████| 41/41 [02:03<00:00,  3.00s/it]\n",
      "100%|██████████| 41/41 [08:08<00:00, 11.92s/it]\n"
     ]
    },
    {
     "name": "stdout",
     "output_type": "stream",
     "text": [
      "Total Class 2 run time: 633.3697900772095\n",
      "2\n",
      "avg_diff is None for lstm in 2. No correct model predictions!\n",
      "--------------------------------------------------\n",
      "Top 5 Feature Changes:\n",
      "0_Median diff: 571158.6252892824\n",
      "0_Skewness: -19.20947316344449\n",
      "0_LPCC_4: 12.205904417427746\n",
      "0_LPCC_8: 12.205904417427746\n",
      "0_LPCC_0: 11.736511983247627\n",
      "--------------------------------------------------\n",
      "Top 5 Feature Changes:\n",
      "0_Median diff: 515723.39859786135\n",
      "0_MFCC_6: 5.979281217063137\n",
      "0_Skewness: -5.376368823142107\n",
      "0_LPCC_4: 4.612485407329496\n",
      "0_LPCC_8: 4.612485407329496\n",
      "----------------------------------------------------------------------\n",
      "Dataset Name: MedicalImages\n",
      "--------------------------------------------------\n",
      "X_train Shape: (912, 1, 99)\n",
      "X_test Shape: (229, 1, 99)\n",
      "y_train Counts: (array([0, 1, 2, 3, 4, 5, 6, 7, 8, 9], dtype=int64), array([ 89, 463,  49,  62,  45,  35,  19,  40,  19,  91], dtype=int64))\n",
      "y_test Counts: (array([0, 1, 2, 3, 4, 5, 6, 7, 8, 9], dtype=int64), array([ 23, 131,  16,  13,   3,  10,   4,   9,   5,  15], dtype=int64))\n",
      "--------------------------------------------------\n",
      "{'lstm': 0.7161572052401747, 'catch22': 0.7685589519650655, 'rocket': 0.8253275109170306}\n",
      "--------------------------------------------------\n",
      "Processing Class: 0\n"
     ]
    },
    {
     "name": "stderr",
     "output_type": "stream",
     "text": [
      "100%|██████████| 229/229 [00:31<00:00,  7.34it/s]\n",
      "100%|██████████| 229/229 [00:35<00:00,  6.50it/s]\n",
      "100%|██████████| 229/229 [03:57<00:00,  1.04s/it]\n"
     ]
    },
    {
     "name": "stdout",
     "output_type": "stream",
     "text": [
      "Total Class 0 run time: 305.03517413139343\n",
      "1\n",
      "--------------------------------------------------\n",
      "Top 5 Feature Changes:\n",
      "0_Neighbourhood peaks: 1681415928.8731563\n",
      "0_Spectrogram mean coefficient_22.58Hz: 34.09429578326029\n",
      "0_Mean diff: -30.03490903264795\n",
      "0_MFCC_7: -13.012504138733116\n",
      "0_Spectrogram mean coefficient_11.29Hz: 12.394132337521068\n",
      "--------------------------------------------------\n",
      "Top 5 Feature Changes:\n",
      "0_Neighbourhood peaks: 1142857142.624603\n",
      "0_Spectrogram mean coefficient_25.81Hz: 63.348937409377825\n",
      "0_Spectrogram mean coefficient_24.19Hz: 40.811743397012286\n",
      "0_Mean diff: -21.133531953875515\n",
      "0_Spectrogram mean coefficient_22.58Hz: 19.087565033801702\n",
      "--------------------------------------------------\n",
      "Top 5 Feature Changes:\n",
      "0_Neighbourhood peaks: 1363636363.376894\n",
      "0_Mean diff: -14.677753528738643\n",
      "0_Spectrogram mean coefficient_22.58Hz: 11.426477449102634\n",
      "0_Spectrogram mean coefficient_0.0Hz: 9.693025861877548\n",
      "0_Spectrogram mean coefficient_25.81Hz: 5.575348317298644\n",
      "Processing Class: 1\n"
     ]
    },
    {
     "name": "stderr",
     "output_type": "stream",
     "text": [
      "100%|██████████| 229/229 [00:30<00:00,  7.61it/s]\n",
      "100%|██████████| 229/229 [00:34<00:00,  6.58it/s]\n",
      "100%|██████████| 229/229 [03:55<00:00,  1.03s/it]\n"
     ]
    },
    {
     "name": "stdout",
     "output_type": "stream",
     "text": [
      "Total Class 1 run time: 303.1441421508789\n",
      "10\n",
      "--------------------------------------------------\n",
      "Top 5 Feature Changes:\n",
      "0_Neighbourhood peaks: 109890109.78021978\n",
      "0_Spectrogram mean coefficient_25.81Hz: 4.934197162404939\n",
      "0_Spectrogram mean coefficient_6.45Hz: 3.944742511462031\n",
      "0_MFCC_9: -1.958498328249327\n",
      "0_Spectrogram mean coefficient_24.19Hz: 1.5933407003922297\n",
      "--------------------------------------------------\n",
      "Top 5 Feature Changes:\n",
      "0_Neighbourhood peaks: 655737704.7704918\n",
      "0_Spectrogram mean coefficient_38.71Hz: 26.542038917167655\n",
      "0_Spectrogram mean coefficient_27.42Hz: 15.254056457150293\n",
      "0_Spectrogram mean coefficient_25.81Hz: 10.350836966937612\n",
      "0_Mean diff: -3.794433429586386\n",
      "--------------------------------------------------\n",
      "Top 5 Feature Changes:\n",
      "0_Neighbourhood peaks: 256410256.2820513\n",
      "0_Spectrogram mean coefficient_27.42Hz: 9.495185423247923\n",
      "0_Spectrogram mean coefficient_38.71Hz: 6.584310989920355\n",
      "0_Spectrogram mean coefficient_25.81Hz: 5.489833731100495\n",
      "0_Wavelet absolute mean_25.0Hz: 2.7580336805308487\n",
      "Processing Class: 2\n"
     ]
    },
    {
     "name": "stderr",
     "output_type": "stream",
     "text": [
      "100%|██████████| 229/229 [00:32<00:00,  7.15it/s]\n",
      "100%|██████████| 229/229 [00:35<00:00,  6.43it/s]\n",
      "100%|██████████| 229/229 [04:15<00:00,  1.12s/it]\n"
     ]
    },
    {
     "name": "stdout",
     "output_type": "stream",
     "text": [
      "Total Class 2 run time: 324.1510531902313\n",
      "2\n",
      "--------------------------------------------------\n",
      "Top 5 Feature Changes:\n",
      "0_MFCC_7: -17.3651640977077\n",
      "0_Spectrogram mean coefficient_30.65Hz: 5.946362466510832\n",
      "0_Spectrogram mean coefficient_29.03Hz: 3.524594212176211\n",
      "0_Spectrogram mean coefficient_43.55Hz: 2.842783357875919\n",
      "0_Spectrogram mean coefficient_6.45Hz: 2.23824198690619\n",
      "--------------------------------------------------\n",
      "Top 5 Feature Changes:\n",
      "0_MFCC_7: -39.726326918790015\n",
      "0_Wavelet absolute mean_3.12Hz: 8.255419275935008\n",
      "0_Spectrogram mean coefficient_30.65Hz: 6.411932856462654\n",
      "0_Spectrogram mean coefficient_29.03Hz: 5.3195787611949745\n",
      "0_Spectrogram mean coefficient_14.52Hz: 2.635430705196761\n",
      "--------------------------------------------------\n",
      "Top 5 Feature Changes:\n",
      "0_MFCC_7: -9.231226745747946\n",
      "0_Wavelet absolute mean_3.12Hz: 4.260439598474942\n",
      "0_Histogram mode: -4.189205193791775\n",
      "0_Spectrogram mean coefficient_30.65Hz: 4.064364549342984\n",
      "0_LPCC_7: 3.922535140633862\n",
      "Processing Class: 3\n"
     ]
    },
    {
     "name": "stderr",
     "output_type": "stream",
     "text": [
      "100%|██████████| 229/229 [00:42<00:00,  5.42it/s]\n",
      "100%|██████████| 229/229 [00:39<00:00,  5.86it/s]\n",
      "100%|██████████| 229/229 [04:10<00:00,  1.09s/it]\n"
     ]
    },
    {
     "name": "stdout",
     "output_type": "stream",
     "text": [
      "Total Class 3 run time: 333.08510732650757\n",
      "3\n",
      "--------------------------------------------------\n",
      "Top 5 Feature Changes:\n",
      "0_Spectrogram mean coefficient_0.0Hz: 107.03243408918388\n",
      "0_Spectrogram mean coefficient_20.97Hz: 13.565651010123315\n",
      "0_Spectrogram mean coefficient_24.19Hz: 12.492997251709218\n",
      "0_MFCC_10: -12.410350670481288\n",
      "0_Spectrogram mean coefficient_22.58Hz: 12.370877187969892\n",
      "--------------------------------------------------\n",
      "Top 5 Feature Changes:\n",
      "0_Neighbourhood peaks: 344827586.1954023\n",
      "0_Spectrogram mean coefficient_0.0Hz: 102.25431158191155\n",
      "0_MFCC_10: -14.010386699571201\n",
      "0_Spectrogram mean coefficient_20.97Hz: 12.421229961902435\n",
      "0_Spectrogram mean coefficient_22.58Hz: 11.0901670312535\n",
      "--------------------------------------------------\n",
      "Top 5 Feature Changes:\n",
      "0_Neighbourhood peaks: 879120879.1208793\n",
      "0_Spectrogram mean coefficient_0.0Hz: 25.924637841834564\n",
      "0_Spectrogram mean coefficient_24.19Hz: 21.34768891370735\n",
      "0_Spectrogram mean coefficient_50.0Hz: 17.881180321496245\n",
      "0_MFCC_10: -10.350990040582788\n",
      "Processing Class: 4\n"
     ]
    },
    {
     "name": "stderr",
     "output_type": "stream",
     "text": [
      "100%|██████████| 229/229 [00:33<00:00,  6.93it/s]\n",
      "100%|██████████| 229/229 [00:38<00:00,  6.02it/s]\n",
      "100%|██████████| 229/229 [03:59<00:00,  1.05s/it]\n"
     ]
    },
    {
     "name": "stdout",
     "output_type": "stream",
     "text": [
      "Total Class 4 run time: 310.9785807132721\n",
      "4\n",
      "--------------------------------------------------\n",
      "Top 5 Feature Changes:\n",
      "0_Neighbourhood peaks: 4400000000.033333\n",
      "0_Mean diff: -21.779543776304866\n",
      "0_Spectrogram mean coefficient_11.29Hz: 13.392442975026404\n",
      "0_MFCC_5: -13.117181007309105\n",
      "0_MFCC_4: -12.594701681183004\n",
      "--------------------------------------------------\n",
      "Top 5 Feature Changes:\n",
      "0_Neighbourhood peaks: 4385964912.400584\n",
      "0_Mean diff: -25.770630089464543\n",
      "0_Spectrogram mean coefficient_29.03Hz: 22.069994537255536\n",
      "0_Spectrogram mean coefficient_24.19Hz: 13.842066099793897\n",
      "0_Spectrogram mean coefficient_22.58Hz: 12.353352242974694\n",
      "--------------------------------------------------\n",
      "Top 5 Feature Changes:\n",
      "0_Neighbourhood peaks: 2368421052.587719\n",
      "0_Mean diff: -58.14429603074948\n",
      "0_Wavelet absolute mean_2.78Hz: 10.823147109814117\n",
      "0_MFCC_5: -4.63337189251128\n",
      "0_MFCC_3: -3.320917277904326\n",
      "Processing Class: 5\n"
     ]
    },
    {
     "name": "stderr",
     "output_type": "stream",
     "text": [
      "100%|██████████| 229/229 [00:32<00:00,  7.05it/s]\n",
      "100%|██████████| 229/229 [00:35<00:00,  6.50it/s]\n",
      "100%|██████████| 229/229 [03:55<00:00,  1.03s/it]\n"
     ]
    },
    {
     "name": "stdout",
     "output_type": "stream",
     "text": [
      "Total Class 5 run time: 304.4310986995697\n",
      "5\n",
      "--------------------------------------------------\n",
      "Top 5 Feature Changes:\n",
      "0_Spectrogram mean coefficient_25.81Hz: 501.4048247545441\n",
      "0_Spectrogram mean coefficient_43.55Hz: 47.856264343263\n",
      "0_Wavelet absolute mean_2.78Hz: 30.258743048644032\n",
      "0_Histogram mode: -22.09943041791032\n",
      "0_Spectrogram mean coefficient_30.65Hz: 16.6971428253\n",
      "--------------------------------------------------\n",
      "Top 5 Feature Changes:\n",
      "0_Spectrogram mean coefficient_43.55Hz: 57.22484845112625\n",
      "0_Spectrogram mean coefficient_30.65Hz: 30.68331620470598\n",
      "0_Spectrogram mean coefficient_32.26Hz: 17.319823323014077\n",
      "0_Wavelet absolute mean_2.78Hz: 13.287650016899885\n",
      "0_Histogram mode: -12.718039390667794\n",
      "--------------------------------------------------\n",
      "Top 5 Feature Changes:\n",
      "0_Spectrogram mean coefficient_25.81Hz: 219.3389040678223\n",
      "0_Wavelet absolute mean_2.78Hz: 22.91325238653124\n",
      "0_Spectrogram mean coefficient_43.55Hz: 14.037138781844714\n",
      "0_Histogram mode: -13.95971327300546\n",
      "0_MFCC_9: -10.479243443799623\n",
      "Processing Class: 6\n"
     ]
    },
    {
     "name": "stderr",
     "output_type": "stream",
     "text": [
      "100%|██████████| 229/229 [00:30<00:00,  7.56it/s]\n",
      "100%|██████████| 229/229 [00:36<00:00,  6.20it/s]\n",
      "100%|██████████| 229/229 [04:07<00:00,  1.08s/it]\n"
     ]
    },
    {
     "name": "stdout",
     "output_type": "stream",
     "text": [
      "Total Class 6 run time: 315.4918563365936\n",
      "6\n",
      "avg_diff is None for lstm in 6. No correct model predictions!\n",
      "--------------------------------------------------\n",
      "Top 5 Feature Changes:\n",
      "0_Spectrogram mean coefficient_29.03Hz: 75.8797350438406\n",
      "0_Spectrogram mean coefficient_27.42Hz: 18.937795686811384\n",
      "0_MFCC_11: 18.13562770404078\n",
      "0_Wavelet absolute mean_12.5Hz: 8.421813932398132\n",
      "0_Spectrogram mean coefficient_4.84Hz: 5.517213533092292\n",
      "--------------------------------------------------\n",
      "Top 5 Feature Changes:\n",
      "0_MFCC_11: 51.4909649706403\n",
      "0_Spectrogram mean coefficient_4.84Hz: 14.675271054980279\n",
      "0_Wavelet absolute mean_12.5Hz: 3.2707975336730373\n",
      "0_MFCC_1: -2.2720977247677574\n",
      "0_Mean: 1.604760373695932\n",
      "Processing Class: 7\n"
     ]
    },
    {
     "name": "stderr",
     "output_type": "stream",
     "text": [
      "100%|██████████| 229/229 [00:36<00:00,  6.33it/s]\n",
      "100%|██████████| 229/229 [00:36<00:00,  6.19it/s]\n",
      "100%|██████████| 229/229 [03:59<00:00,  1.05s/it]\n"
     ]
    },
    {
     "name": "stdout",
     "output_type": "stream",
     "text": [
      "Total Class 7 run time: 313.63662481307983\n",
      "7\n",
      "--------------------------------------------------\n",
      "Top 5 Feature Changes:\n",
      "0_Neighbourhood peaks: 2212389380.4011803\n",
      "0_Spectrogram mean coefficient_0.0Hz: 100.60778502350037\n",
      "0_Spectrogram mean coefficient_32.26Hz: 77.65425145416766\n",
      "0_Spectrogram mean coefficient_30.65Hz: 73.41658904221606\n",
      "0_Spectrogram mean coefficient_29.03Hz: 71.06392793750977\n",
      "--------------------------------------------------\n",
      "Top 5 Feature Changes:\n",
      "0_Neighbourhood peaks: 2650602409.5491967\n",
      "0_Spectrogram mean coefficient_0.0Hz: 77.91297374388755\n",
      "0_Spectrogram mean coefficient_30.65Hz: 77.73083023021151\n",
      "0_Mean diff: 56.75647121127893\n",
      "0_Spectrogram mean coefficient_32.26Hz: 16.816148718429453\n",
      "--------------------------------------------------\n",
      "Top 5 Feature Changes:\n",
      "0_Neighbourhood peaks: 2345679012.1625514\n",
      "0_Spectrogram mean coefficient_0.0Hz: 125.36984900414387\n",
      "0_Mean diff: 70.2579750979764\n",
      "0_Spectrogram mean coefficient_32.26Hz: 23.29508093708972\n",
      "0_Spectrogram mean coefficient_19.35Hz: 15.300760806585268\n",
      "Processing Class: 8\n"
     ]
    },
    {
     "name": "stderr",
     "output_type": "stream",
     "text": [
      "100%|██████████| 229/229 [00:31<00:00,  7.29it/s]\n",
      "100%|██████████| 229/229 [00:35<00:00,  6.43it/s]\n",
      "100%|██████████| 229/229 [03:59<00:00,  1.05s/it]\n"
     ]
    },
    {
     "name": "stdout",
     "output_type": "stream",
     "text": [
      "Total Class 8 run time: 307.36037158966064\n",
      "8\n",
      "avg_diff is None for lstm in 8. No correct model predictions!\n",
      "--------------------------------------------------\n",
      "Top 5 Feature Changes:\n",
      "0_Neighbourhood peaks: 1612903225.596774\n",
      "0_Spectrogram mean coefficient_0.0Hz: 8.921856903285681\n",
      "0_LPCC_6: 6.643222659063631\n",
      "0_Spectrogram mean coefficient_22.58Hz: 4.8474289551901615\n",
      "0_ECDF Percentile_1: 2.964949072190183\n",
      "--------------------------------------------------\n",
      "Top 5 Feature Changes:\n",
      "0_Neighbourhood peaks: 1836734693.5765307\n",
      "0_Spectrogram mean coefficient_0.0Hz: 16.97079707497931\n",
      "0_LPCC_6: 8.11690698644347\n",
      "0_Spectrogram mean coefficient_22.58Hz: 3.439264106672573\n",
      "0_ECDF Percentile_1: 2.3364595663666847\n",
      "Processing Class: 9\n"
     ]
    },
    {
     "name": "stderr",
     "output_type": "stream",
     "text": [
      "100%|██████████| 229/229 [00:35<00:00,  6.39it/s]\n",
      "100%|██████████| 229/229 [00:37<00:00,  6.18it/s]\n",
      "100%|██████████| 229/229 [04:01<00:00,  1.05s/it]\n"
     ]
    },
    {
     "name": "stdout",
     "output_type": "stream",
     "text": [
      "Total Class 9 run time: 315.5707266330719\n",
      "9\n",
      "avg_diff is None for lstm in 9. No correct model predictions!\n",
      "--------------------------------------------------\n",
      "Top 5 Feature Changes:\n",
      "0_Spectrogram mean coefficient_9.68Hz: 7.156786110169376\n",
      "0_ECDF Percentile_1: 5.7796411943703605\n",
      "0_LPCC_6: 5.0153091094250835\n",
      "0_LPCC_9: 2.3381030851324307\n",
      "0_LPCC_3: 2.3381030851324303\n",
      "--------------------------------------------------\n",
      "Top 5 Feature Changes:\n",
      "0_Neighbourhood peaks: 416666666.4583333\n",
      "0_Spectrogram mean coefficient_27.42Hz: 64.82267266136118\n",
      "0_Spectrogram mean coefficient_25.81Hz: 38.66062453378829\n",
      "0_LPCC_0: 5.250026668815257\n",
      "0_LPCC_6: 4.113085705911042\n",
      "----------------------------------------------------------------------\n",
      "Dataset Name: Colposcopy\n",
      "--------------------------------------------------\n",
      "X_train Shape: (160, 1, 180)\n",
      "X_test Shape: (40, 1, 180)\n",
      "y_train Counts: (array([0, 1, 2, 3, 4, 5], dtype=int64), array([14, 19, 17, 40, 25, 45], dtype=int64))\n",
      "y_test Counts: (array([0, 1, 2, 3, 4, 5], dtype=int64), array([ 1,  5,  3,  8, 12, 11], dtype=int64))\n",
      "--------------------------------------------------\n",
      "{'lstm': 0.4, 'catch22': 0.4, 'rocket': 0.325}\n",
      "--------------------------------------------------\n",
      "Processing Class: 0\n"
     ]
    },
    {
     "name": "stderr",
     "output_type": "stream",
     "text": [
      "100%|██████████| 39/39 [00:05<00:00,  6.65it/s]\n",
      "100%|██████████| 39/39 [00:11<00:00,  3.39it/s]\n",
      "100%|██████████| 39/39 [01:05<00:00,  1.67s/it]\n"
     ]
    },
    {
     "name": "stdout",
     "output_type": "stream",
     "text": [
      "Total Class 0 run time: 82.6128602027893\n",
      "0\n",
      "avg_diff is None for lstm in 0. No correct model predictions!\n",
      "avg_diff is None for catch22 in 0. No correct model predictions!\n",
      "avg_diff is None for rocket in 0. No correct model predictions!\n",
      "Processing Class: 1\n"
     ]
    },
    {
     "name": "stderr",
     "output_type": "stream",
     "text": [
      "100%|██████████| 40/40 [00:05<00:00,  7.02it/s]\n",
      "100%|██████████| 40/40 [00:10<00:00,  3.65it/s]\n",
      "100%|██████████| 40/40 [01:06<00:00,  1.65s/it]\n"
     ]
    },
    {
     "name": "stdout",
     "output_type": "stream",
     "text": [
      "Total Class 1 run time: 83.00529551506042\n",
      "1\n",
      "avg_diff is None for lstm in 1. No correct model predictions!\n",
      "avg_diff is None for catch22 in 1. No correct model predictions!\n",
      "avg_diff is None for rocket in 1. No correct model predictions!\n",
      "Processing Class: 2\n"
     ]
    },
    {
     "name": "stderr",
     "output_type": "stream",
     "text": [
      "100%|██████████| 40/40 [00:05<00:00,  7.39it/s]\n",
      "100%|██████████| 40/40 [00:10<00:00,  3.65it/s]\n",
      "100%|██████████| 40/40 [01:05<00:00,  1.63s/it]\n"
     ]
    },
    {
     "name": "stdout",
     "output_type": "stream",
     "text": [
      "Total Class 2 run time: 81.8102855682373\n",
      "2\n",
      "avg_diff is None for lstm in 2. No correct model predictions!\n",
      "--------------------------------------------------\n",
      "Top 5 Feature Changes:\n",
      "0_Neighbourhood peaks: 10000000000.054167\n",
      "0_Median diff: 318110705.198021\n",
      "0_Slope: -2.4923221308257157\n",
      "0_MFCC_4: 2.2377188540768875\n",
      "0_Skewness: 2.1443750529305414\n",
      "avg_diff is None for rocket in 2. No correct model predictions!\n",
      "Processing Class: 3\n"
     ]
    },
    {
     "name": "stderr",
     "output_type": "stream",
     "text": [
      "100%|██████████| 40/40 [00:05<00:00,  7.09it/s]\n",
      "100%|██████████| 40/40 [00:10<00:00,  3.78it/s]\n",
      "100%|██████████| 40/40 [01:04<00:00,  1.62s/it]\n"
     ]
    },
    {
     "name": "stdout",
     "output_type": "stream",
     "text": [
      "Total Class 3 run time: 81.50043869018555\n",
      "3\n",
      "avg_diff is None for lstm in 3. No correct model predictions!\n",
      "avg_diff is None for catch22 in 3. No correct model predictions!\n",
      "--------------------------------------------------\n",
      "Top 5 Feature Changes:\n",
      "0_MFCC_5: -6.095342462541498\n",
      "0_Min: 1.1046431598245698\n",
      "0_MFCC_9: -0.8966113664175059\n",
      "0_MFCC_4: 0.8020184677055439\n",
      "0_MFCC_2: 0.7243930223795408\n",
      "Processing Class: 4\n"
     ]
    },
    {
     "name": "stderr",
     "output_type": "stream",
     "text": [
      "100%|██████████| 40/40 [00:04<00:00,  8.10it/s]\n",
      "100%|██████████| 40/40 [00:10<00:00,  3.82it/s]\n",
      "100%|██████████| 40/40 [01:04<00:00,  1.61s/it]\n"
     ]
    },
    {
     "name": "stdout",
     "output_type": "stream",
     "text": [
      "Total Class 4 run time: 79.99642515182495\n",
      "4\n",
      "avg_diff is None for lstm in 4. No correct model predictions!\n",
      "--------------------------------------------------\n",
      "Top 5 Feature Changes:\n",
      "0_MFCC_5: 26.45839697513107\n",
      "0_MFCC_4: -19.37486592212268\n",
      "0_Spectrogram mean coefficient_50.0Hz: 4.393096936405047\n",
      "0_MFCC_2: 2.371420627654148\n",
      "0_MFCC_0: -2.168227987877158\n",
      "--------------------------------------------------\n",
      "Top 5 Feature Changes:\n",
      "0_Neighbourhood peaks: 60000000000.0\n",
      "0_MFCC_1: 3.772677817475575\n",
      "0_MFCC_10: 3.2814777631022234\n",
      "0_MFCC_11: 1.0412353503000111\n",
      "0_Spectrogram mean coefficient_29.03Hz: -0.9164045793011705\n",
      "Processing Class: 5\n"
     ]
    },
    {
     "name": "stderr",
     "output_type": "stream",
     "text": [
      "100%|██████████| 40/40 [00:06<00:00,  5.85it/s]\n",
      "100%|██████████| 40/40 [00:11<00:00,  3.50it/s]\n",
      "100%|██████████| 40/40 [01:04<00:00,  1.62s/it]\n"
     ]
    },
    {
     "name": "stdout",
     "output_type": "stream",
     "text": [
      "Total Class 5 run time: 83.43654489517212\n",
      "5\n",
      "avg_diff is None for lstm in 5. No correct model predictions!\n",
      "--------------------------------------------------\n",
      "Top 5 Feature Changes:\n",
      "0_MFCC_10: 1.7585721582611107\n",
      "0_Neighbourhood peaks: 1.3333333332666666\n",
      "0_MFCC_1: 0.7185302376085364\n",
      "0_Entropy: 0.5806412465754948\n",
      "0_Spectrogram mean coefficient_30.65Hz: -0.35593352535863215\n",
      "--------------------------------------------------\n",
      "Top 5 Feature Changes:\n",
      "0_Median diff: 25980567.3267266\n",
      "0_MFCC_10: 29.102537655408387\n",
      "0_Min: 12.47075746510383\n",
      "0_Spectrogram mean coefficient_50.0Hz: 11.648281715198149\n",
      "0_MFCC_8: 3.211594821966172\n",
      "----------------------------------------------------------------------\n",
      "Dataset Name: EyesOpenShut\n",
      "--------------------------------------------------\n",
      "X_train Shape: (78, 14, 128)\n",
      "X_test Shape: (20, 14, 128)\n",
      "y_train Counts: (array([0, 1], dtype=int64), array([43, 35], dtype=int64))\n",
      "y_test Counts: (array([0, 1], dtype=int64), array([11,  9], dtype=int64))\n",
      "--------------------------------------------------\n",
      "{'lstm': 0.55, 'catch22': 0.55, 'rocket': 0.6}\n",
      "--------------------------------------------------\n",
      "Processing Class: 0\n"
     ]
    },
    {
     "name": "stderr",
     "output_type": "stream",
     "text": [
      "100%|██████████| 20/20 [00:03<00:00,  5.61it/s]\n",
      "100%|██████████| 20/20 [01:16<00:00,  3.81s/it]\n",
      "100%|██████████| 20/20 [01:37<00:00,  4.88s/it]\n"
     ]
    },
    {
     "name": "stdout",
     "output_type": "stream",
     "text": [
      "Total Class 0 run time: 178.18132495880127\n",
      "0\n",
      "avg_diff is None for lstm in 0. No correct model predictions!\n",
      "--------------------------------------------------\n",
      "Top 5 Feature Changes:\n",
      "3_Median diff: -1574752475.2441676\n",
      "6_Median diff: -1368069306.9284189\n",
      "7_Median diff: 1359900990.1613982\n",
      "1_Median diff: -1059405940.3923937\n",
      "11_Median diff: 1019306930.691073\n",
      "--------------------------------------------------\n",
      "Top 5 Feature Changes:\n",
      "12_Median diff: -1084048404.8417745\n",
      "9_Median diff: -883498349.1762156\n",
      "10_Median diff: 670847084.8207473\n",
      "8_Median diff: 646534652.9265981\n",
      "3_Median diff: 376347634.8380506\n",
      "Processing Class: 1\n"
     ]
    },
    {
     "name": "stderr",
     "output_type": "stream",
     "text": [
      "100%|██████████| 20/20 [00:03<00:00,  5.45it/s]\n",
      "100%|██████████| 20/20 [01:16<00:00,  3.83s/it]\n",
      "100%|██████████| 20/20 [01:37<00:00,  4.90s/it]\n"
     ]
    },
    {
     "name": "stdout",
     "output_type": "stream",
     "text": [
      "Total Class 1 run time: 179.02174425125122\n",
      "1\n",
      "avg_diff is None for lstm in 1. No correct model predictions!\n",
      "--------------------------------------------------\n",
      "Top 5 Feature Changes:\n",
      "9_Median diff: -2930940594.0603027\n",
      "11_Median diff: 1875990099.0130517\n",
      "3_Median diff: -1214356436.1910868\n",
      "8_Median diff: 1101732673.2644506\n",
      "6_Median diff: -710643564.2460318\n",
      "--------------------------------------------------\n",
      "Top 5 Feature Changes:\n",
      "1_Median diff: 1608360836.232994\n",
      "5_Median diff: -1075247524.8430548\n",
      "2_Median diff: 897359736.4811554\n",
      "9_Median diff: 864576457.0790485\n",
      "13_Median diff: -797909790.7600585\n",
      "----------------------------------------------------------------------\n",
      "Dataset Name: ToeSegmentation1\n",
      "--------------------------------------------------\n",
      "X_train Shape: (214, 1, 277)\n",
      "X_test Shape: (54, 1, 277)\n",
      "y_train Counts: (array([0, 1], dtype=int64), array([108, 106], dtype=int64))\n",
      "y_test Counts: (array([0, 1], dtype=int64), array([32, 22], dtype=int64))\n",
      "--------------------------------------------------\n",
      "{'lstm': 0.7777777777777778, 'catch22': 0.9444444444444444, 'rocket': 0.9444444444444444}\n",
      "--------------------------------------------------\n",
      "Processing Class: 0\n"
     ]
    },
    {
     "name": "stderr",
     "output_type": "stream",
     "text": [
      "100%|██████████| 54/54 [00:07<00:00,  7.28it/s]\n",
      "100%|██████████| 54/54 [00:35<00:00,  1.53it/s]\n",
      "100%|██████████| 54/54 [02:02<00:00,  2.27s/it]\n"
     ]
    },
    {
     "name": "stdout",
     "output_type": "stream",
     "text": [
      "Total Class 0 run time: 166.51801228523254\n",
      "0\n",
      "--------------------------------------------------\n",
      "Top 5 Feature Changes:\n",
      "0_Wavelet absolute mean_4.17Hz: 8.158731933214922\n",
      "0_Median diff: -3.20673431819986\n",
      "0_MFCC_1: 1.8306619898409169\n",
      "0_MFCC_10: -1.210342875295347\n",
      "0_MFCC_0: 0.995952009362117\n",
      "--------------------------------------------------\n",
      "Top 5 Feature Changes:\n",
      "0_Wavelet absolute mean_4.17Hz: 12.519941107599097\n",
      "0_MFCC_1: 7.776147511924971\n",
      "0_MFCC_0: 1.5002878119062535\n",
      "0_MFCC_2: 1.209852745562022\n",
      "0_Wavelet absolute mean_3.57Hz: 0.9132937944741707\n",
      "--------------------------------------------------\n",
      "Top 5 Feature Changes:\n",
      "0_Wavelet absolute mean_4.17Hz: 8.296332887696906\n",
      "0_MFCC_1: 3.9820471407192897\n",
      "0_Median diff: -1.7724117102490096\n",
      "0_MFCC_2: 1.5355844923588333\n",
      "0_MFCC_10: -1.2541192330331317\n",
      "Processing Class: 1\n"
     ]
    },
    {
     "name": "stderr",
     "output_type": "stream",
     "text": [
      "100%|██████████| 54/54 [00:07<00:00,  7.55it/s]\n",
      "100%|██████████| 54/54 [00:31<00:00,  1.72it/s]\n",
      "100%|██████████| 54/54 [02:01<00:00,  2.25s/it]\n"
     ]
    },
    {
     "name": "stdout",
     "output_type": "stream",
     "text": [
      "Total Class 1 run time: 161.25494647026062\n",
      "1\n",
      "--------------------------------------------------\n",
      "Top 5 Feature Changes:\n",
      "0_Median diff: 48.863747393374716\n",
      "0_Histogram mode: -16.366260719056424\n",
      "0_Wavelet absolute mean_12.5Hz: 4.086406628838694\n",
      "0_Wavelet absolute mean_25.0Hz: 2.0795056182866247\n",
      "0_MFCC_9: -2.0394135576036425\n",
      "--------------------------------------------------\n",
      "Top 5 Feature Changes:\n",
      "0_Median diff: 7.02843926532727\n",
      "0_Histogram mode: -6.565909213578953\n",
      "0_LPCC_0: 2.307400111336629\n",
      "0_Wavelet absolute mean_3.12Hz: 1.7323824834449864\n",
      "0_Wavelet absolute mean_12.5Hz: 1.564723672317346\n",
      "--------------------------------------------------\n",
      "Top 5 Feature Changes:\n",
      "0_Histogram mode: -10.988577953494241\n",
      "0_Median diff: 9.952322509497655\n",
      "0_LPCC_0: 2.3849400713014384\n",
      "0_Wavelet absolute mean_12.5Hz: 1.6929258466140016\n",
      "0_Wavelet absolute mean_25.0Hz: 1.4471412259946372\n",
      "----------------------------------------------------------------------\n",
      "Dataset Name: Heartbeat\n",
      "--------------------------------------------------\n",
      "X_train Shape: (327, 61, 405)\n",
      "X_test Shape: (82, 61, 405)\n",
      "y_train Counts: (array([0, 1], dtype=int64), array([240,  87], dtype=int64))\n",
      "y_test Counts: (array([0, 1], dtype=int64), array([55, 27], dtype=int64))\n",
      "--------------------------------------------------\n",
      "{'lstm': 0.6219512195121951, 'catch22': 0.6951219512195121, 'rocket': 0.5975609756097561}\n",
      "--------------------------------------------------\n",
      "Processing Class: 0\n"
     ]
    },
    {
     "name": "stderr",
     "output_type": "stream",
     "text": [
      "100%|██████████| 82/82 [00:41<00:00,  1.99it/s]\n",
      "100%|██████████| 82/82 [1:54:59<00:00, 84.15s/it]\n",
      "100%|██████████| 82/82 [20:22<00:00, 14.91s/it]\n"
     ]
    },
    {
     "name": "stdout",
     "output_type": "stream",
     "text": [
      "Total Class 0 run time: 8378.001672267914\n",
      "abnormal\n",
      "avg_diff is None for lstm in abnormal. No correct model predictions!\n",
      "avg_diff is None for catch22 in abnormal. No correct model predictions!\n",
      "--------------------------------------------------\n",
      "Top 5 Feature Changes:\n",
      "39_LPCC_6: 688.1285169049643\n",
      "33_LPCC_6: 351.93888631955895\n",
      "23_LPCC_4: 186.15319534116162\n",
      "23_LPCC_8: 186.15319534116162\n",
      "36_MFCC_9: 180.43000277879125\n",
      "Processing Class: 1\n"
     ]
    },
    {
     "name": "stderr",
     "output_type": "stream",
     "text": [
      "100%|██████████| 82/82 [00:43<00:00,  1.87it/s]\n",
      "100%|██████████| 82/82 [1:54:30<00:00, 83.79s/it]\n",
      "100%|██████████| 82/82 [20:24<00:00, 14.93s/it]\n"
     ]
    },
    {
     "name": "stdout",
     "output_type": "stream",
     "text": [
      "Total Class 1 run time: 8362.658996343613\n",
      "normal\n",
      "avg_diff is None for lstm in normal. No correct model predictions!\n",
      "avg_diff is None for catch22 in normal. No correct model predictions!\n",
      "--------------------------------------------------\n",
      "Top 5 Feature Changes:\n",
      "39_Mean diff: -1500.6776842429322\n",
      "58_MFCC_5: -202.39589482436642\n",
      "60_Min: 177.83620140167574\n",
      "8_Kurtosis: 115.8408154080931\n",
      "11_Kurtosis: 90.98237374841267\n",
      "----------------------------------------------------------------------\n",
      "Dataset Name: EMOPain\n",
      "--------------------------------------------------\n",
      "X_train Shape: (1058, 30, 200)\n",
      "X_test Shape: (265, 30, 200)\n",
      "y_train Counts: (array([0, 1, 2], dtype=int64), array([818, 152,  88], dtype=int64))\n",
      "y_test Counts: (array([0, 1, 2], dtype=int64), array([204,  37,  24], dtype=int64))\n",
      "--------------------------------------------------\n",
      "{'lstm': 0.8226415094339623, 'catch22': 0.9169811320754717, 'rocket': 0.7849056603773585}\n",
      "--------------------------------------------------\n",
      "Processing Class: 0\n"
     ]
    },
    {
     "name": "stderr",
     "output_type": "stream",
     "text": [
      "100%|██████████| 265/265 [01:55<00:00,  2.29it/s]\n",
      "100%|██████████| 265/265 [1:15:44<00:00, 17.15s/it]\n",
      "100%|██████████| 265/265 [32:32<00:00,  7.37s/it]\n"
     ]
    },
    {
     "name": "stdout",
     "output_type": "stream",
     "text": [
      "Total Class 0 run time: 6955.890978097916\n",
      "0\n",
      "--------------------------------------------------\n",
      "Top 5 Feature Changes:\n",
      "5_Positive turning points: 61428571428.62222\n",
      "5_Negative turning points: 58571428571.45502\n",
      "0_Neighbourhood peaks: 11428571428.619047\n",
      "5_Neighbourhood peaks: 9523809523.79365\n",
      "9_Neighbourhood peaks: 7142857143.023809\n",
      "--------------------------------------------------\n",
      "Top 5 Feature Changes:\n",
      "4_Neighbourhood peaks: 16250000000.0625\n",
      "22_Spectral roll-on: 1875000000.0\n",
      "2_Neighbourhood peaks: 1250000000.0\n",
      "10_Maximum frequency: 1250000000.0\n",
      "10_Spectral roll-off: 1250000000.0\n",
      "--------------------------------------------------\n",
      "Top 5 Feature Changes:\n",
      "5_Neighbourhood peaks: 5588235294.133986\n",
      "0_Positive turning points: 5294117648.127449\n",
      "3_Negative turning points: 5098039215.768789\n",
      "2_Positive turning points: 4607843137.533333\n",
      "7_Maximum frequency: 2156862745.098039\n",
      "Processing Class: 1\n"
     ]
    },
    {
     "name": "stderr",
     "output_type": "stream",
     "text": [
      "100%|██████████| 265/265 [02:05<00:00,  2.11it/s]\n",
      "100%|██████████| 265/265 [1:18:17<00:00, 17.73s/it]\n",
      "100%|██████████| 265/265 [32:31<00:00,  7.36s/it]\n"
     ]
    },
    {
     "name": "stdout",
     "output_type": "stream",
     "text": [
      "Total Class 1 run time: 7004.435520887375\n",
      "1\n",
      "--------------------------------------------------\n",
      "Top 5 Feature Changes:\n",
      "1_Maximum frequency: 29105263157.888775\n",
      "1_Spectral roll-off: 29105263157.888775\n",
      "8_Negative turning points: 28210526318.741302\n",
      "0_Negative turning points: 22105263159.98457\n",
      "0_Maximum frequency: 20315789473.764374\n",
      "--------------------------------------------------\n",
      "Top 5 Feature Changes:\n",
      "15_ECDF Percentile Count_1: 135593220338.98305\n",
      "7_Maximum frequency: 53559322033.993835\n",
      "1_Maximum frequency: 52669491525.49969\n",
      "1_Spectral roll-off: 52669491525.49969\n",
      "3_Maximum frequency: 36271186440.643585\n",
      "--------------------------------------------------\n",
      "Top 5 Feature Changes:\n",
      "1_Positive turning points: 26307692310.4446\n",
      "1_Negative turning points: 26307692310.287888\n",
      "0_Positive turning points: 25692307695.620358\n",
      "0_Negative turning points: 21538461541.540302\n",
      "2_Positive turning points: 16000000002.20338\n",
      "Processing Class: 2\n"
     ]
    },
    {
     "name": "stderr",
     "output_type": "stream",
     "text": [
      "100%|██████████| 265/265 [02:06<00:00,  2.09it/s]\n",
      "100%|██████████| 265/265 [1:20:44<00:00, 18.28s/it]\n",
      "100%|██████████| 265/265 [32:46<00:00,  7.42s/it]\n"
     ]
    },
    {
     "name": "stdout",
     "output_type": "stream",
     "text": [
      "Total Class 2 run time: 7079.8752954006195\n",
      "2\n",
      "--------------------------------------------------\n",
      "Top 5 Feature Changes:\n",
      "0_Negative turning points: 20400000002.745094\n",
      "0_Positive turning points: 18666666670.56546\n",
      "9_Positive turning points: 13466666670.370167\n",
      "1_Negative turning points: 11333333337.422672\n",
      "1_Positive turning points: 7200000004.334403\n",
      "--------------------------------------------------\n",
      "Top 5 Feature Changes:\n",
      "3_Negative turning points: 19375000001.098534\n",
      "8_Positive turning points: 14791666667.671648\n",
      "0_Positive turning points: 10416666668.67581\n",
      "1_Negative turning points: 7083333336.817277\n",
      "0_Negative turning points: 6875000001.815862\n",
      "--------------------------------------------------\n",
      "Top 5 Feature Changes:\n",
      "16_ECDF Percentile Count_1: 533333333333.3333\n",
      "2_Negative turning points: 103333333333.83333\n",
      "2_Positive turning points: 96666666667.0\n",
      "3_Negative turning points: 96666666666.95833\n",
      "8_Positive turning points: 96666666666.93333\n",
      "----------------------------------------------------------------------\n",
      "Dataset Name: HandMovementDirection\n",
      "--------------------------------------------------\n",
      "X_train Shape: (187, 10, 400)\n",
      "X_test Shape: (47, 10, 400)\n",
      "y_train Counts: (array([0, 1, 2, 3], dtype=int64), array([42, 58, 45, 42], dtype=int64))\n",
      "y_test Counts: (array([0, 1, 2, 3], dtype=int64), array([13, 12, 10, 12], dtype=int64))\n",
      "--------------------------------------------------\n",
      "{'lstm': 0.3829787234042553, 'catch22': 0.2553191489361702, 'rocket': 0.46808510638297873}\n",
      "--------------------------------------------------\n",
      "Processing Class: 0\n"
     ]
    },
    {
     "name": "stderr",
     "output_type": "stream",
     "text": [
      "100%|██████████| 47/47 [00:20<00:00,  2.27it/s]\n",
      "100%|██████████| 47/47 [07:47<00:00,  9.94s/it]\n",
      "100%|██████████| 47/47 [11:26<00:00, 14.61s/it]\n"
     ]
    },
    {
     "name": "stdout",
     "output_type": "stream",
     "text": [
      "Total Class 0 run time: 1185.9180178642273\n",
      "backward\n",
      "--------------------------------------------------\n",
      "Top 5 Feature Changes:\n",
      "5_Wavelet absolute mean_2.78Hz: 10.536339095010579\n",
      "9_Slope: 7.330818836538273\n",
      "5_Median diff: -5.580742518959819\n",
      "2_LPCC_4: 4.595940703304844\n",
      "2_LPCC_8: 4.595940703304844\n",
      "--------------------------------------------------\n",
      "Top 5 Feature Changes:\n",
      "6_Spectral decrease: 19.337063263716843\n",
      "3_MFCC_8: 19.05366279289901\n",
      "7_Histogram mode: -7.527117462122656\n",
      "8_Histogram mode: 6.342693500365962\n",
      "5_Spectral decrease: 2.7975943264914322\n",
      "avg_diff is None for rocket in backward. No correct model predictions!\n",
      "Processing Class: 1\n"
     ]
    },
    {
     "name": "stderr",
     "output_type": "stream",
     "text": [
      "100%|██████████| 47/47 [00:19<00:00,  2.45it/s]\n",
      "100%|██████████| 47/47 [08:15<00:00, 10.54s/it]\n",
      "100%|██████████| 47/47 [11:28<00:00, 14.64s/it]\n"
     ]
    },
    {
     "name": "stdout",
     "output_type": "stream",
     "text": [
      "Total Class 1 run time: 1214.461740732193\n",
      "forward\n",
      "--------------------------------------------------\n",
      "Top 5 Feature Changes:\n",
      "3_Spectral roll-on: 588235294.1764706\n",
      "1_Spectral roll-on: 294117647.14705884\n",
      "4_Spectral roll-on: 294117647.11764705\n",
      "2_Spectral roll-on: 147058823.6470588\n",
      "0_Histogram mode: -40.259479943982285\n",
      "avg_diff is None for catch22 in forward. No correct model predictions!\n",
      "--------------------------------------------------\n",
      "Top 5 Feature Changes:\n",
      "3_Spectral roll-on: 454545454.54545456\n",
      "1_Spectral roll-on: 454545454.5\n",
      "4_Spectral roll-on: 227272727.27272728\n",
      "2_Spectral roll-on: 227272727.1969697\n",
      "7_Wavelet absolute mean_2.78Hz: 21.804454404518513\n",
      "Processing Class: 2\n"
     ]
    },
    {
     "name": "stderr",
     "output_type": "stream",
     "text": [
      "100%|██████████| 47/47 [00:43<00:00,  1.09it/s]\n",
      "100%|██████████| 47/47 [08:35<00:00, 10.97s/it]\n",
      "100%|██████████| 47/47 [11:57<00:00, 15.26s/it]\n"
     ]
    },
    {
     "name": "stdout",
     "output_type": "stream",
     "text": [
      "Total Class 2 run time: 1286.1783709526062\n",
      "left\n",
      "--------------------------------------------------\n",
      "Top 5 Feature Changes:\n",
      "1_Median: 191.7047405061431\n",
      "9_Wavelet absolute mean_12.5Hz: 116.60939089082682\n",
      "2_MFCC_5: -49.0594341038304\n",
      "4_MFCC_6: 17.3504655139091\n",
      "6_Mean diff: 13.432222912837213\n",
      "--------------------------------------------------\n",
      "Top 5 Feature Changes:\n",
      "2_Median: 40.402775321112614\n",
      "8_LPCC_0: 11.398341547588272\n",
      "9_LPCC_4: 9.166716167652933\n",
      "9_LPCC_8: 9.166716167652933\n",
      "6_MFCC_4: -7.916129756688473\n",
      "--------------------------------------------------\n",
      "Top 5 Feature Changes:\n",
      "2_Median: 27.067063145250263\n",
      "1_Wavelet absolute mean_5.0Hz: 23.925999648143044\n",
      "5_Median diff: -19.590650950675265\n",
      "8_Mean: 13.280690806468714\n",
      "2_MFCC_10: -12.74739975344111\n",
      "Processing Class: 3\n"
     ]
    },
    {
     "name": "stderr",
     "output_type": "stream",
     "text": [
      "100%|██████████| 47/47 [00:21<00:00,  2.21it/s]\n",
      "100%|██████████| 47/47 [08:26<00:00, 10.78s/it]\n",
      "100%|██████████| 47/47 [11:58<00:00, 15.28s/it]\n"
     ]
    },
    {
     "name": "stdout",
     "output_type": "stream",
     "text": [
      "Total Class 3 run time: 1257.731424331665\n",
      "right\n",
      "--------------------------------------------------\n",
      "Top 5 Feature Changes:\n",
      "7_MFCC_4: -16.463279787840456\n",
      "4_LPCC_6: 15.596006290580544\n",
      "7_Kurtosis: 14.094224521824186\n",
      "9_Median diff: -7.335202700729775\n",
      "9_MFCC_10: -7.16456311947115\n",
      "--------------------------------------------------\n",
      "Top 5 Feature Changes:\n",
      "9_Wavelet absolute mean_12.5Hz: 128.24958795262643\n",
      "3_Median: -63.45145699252946\n",
      "2_MFCC_5: 29.66328308886433\n",
      "1_Median: -29.434639691457342\n",
      "6_Wavelet absolute mean_25.0Hz: 22.72483973011491\n",
      "--------------------------------------------------\n",
      "Top 5 Feature Changes:\n",
      "8_Spectral roll-on: 499999999.9333333\n",
      "9_MFCC_4: 79.26873492880269\n",
      "0_Histogram mode: -54.24978367008996\n",
      "6_Median: 30.06001148459161\n",
      "1_Wavelet absolute mean_25.0Hz: 23.361908001912344\n",
      "All results saved successfully!\n"
     ]
    }
   ],
   "source": [
    "def multivariate_featues(row, cfg): \n",
    "    feature_names = []  \n",
    "    row_features = []  \n",
    "\n",
    "    for var_idx, variate in enumerate(row):\n",
    "        features = tsfel.time_series_features_extractor(cfg, variate, verbose=0)\n",
    "        \n",
    "        modified_columns = [\n",
    "            col.replace('0_', f'{var_idx}_') if var_idx != 0 else col \n",
    "            for col in features.columns\n",
    "        ]\n",
    "        features.columns = modified_columns  \n",
    "\n",
    "        row_features.append(features)\n",
    "        feature_names.extend(modified_columns) \n",
    "    \n",
    "    combined_row_features = pd.concat(row_features, axis=1)\n",
    "    dataframe = pd.DataFrame(combined_row_features, columns=feature_names)\n",
    "    return dataframe\n",
    "\n",
    "    \n",
    "all_results = {}\n",
    "all_features = {}\n",
    "results_array = np.empty((0, 11)) \n",
    "\n",
    "for df_name in ECG_datasets:\n",
    "    try:\n",
    "        # Load Dataset ===================================\n",
    "        X, y = load_classification(df_name)\n",
    "        le = LabelEncoder()\n",
    "        y = le.fit_transform(y)\n",
    "    except Exception as e:\n",
    "        print(f'{df_name}: Dataset Not Available - {str(e)}')\n",
    "        continue\n",
    "\n",
    "    print(\"-\" * 70)\n",
    "    print(\"Dataset Name:\", df_name)\n",
    "    print(\"-\" * 50)\n",
    "\n",
    "    X_train, X_test, y_train, y_test = train_test_split(X, y, test_size=0.2, random_state=42)\n",
    "\n",
    "    # Useful Information\n",
    "    ts_length = X_train.shape[2]\n",
    "    df_size = X_train.shape[0]\n",
    "    n_classes = len(np.unique(y))  \n",
    "    variates = X_train.shape[1]  \n",
    "    class_counts = Counter(y_train)\n",
    "    num_classes = len(class_counts)\n",
    "\n",
    "    print('X_train Shape:', X_train.shape)\n",
    "    print('X_test Shape:', X_test.shape)\n",
    "\n",
    "    print('y_train Counts:', np.unique(y_train, return_counts=True))\n",
    "    print('y_test Counts:', np.unique(y_test, return_counts=True))\n",
    "    print(\"-\" * 50)\n",
    "\n",
    "\n",
    "    # Train and Evaluate Models ===================================\n",
    "    start = time.time()\n",
    "    lstm = Models('lstm', X_train, y_train)\n",
    "    lstm.train_lstm()\n",
    "    catch = Models('catch22', X_train, y_train)\n",
    "    catch.train_catch22()\n",
    "    rocket = Models('rocket', X_train, y_train)\n",
    "    rocket.train_rocket()\n",
    "\n",
    "    models = [lstm, catch, rocket] \n",
    "    acc = {}\n",
    "    for m in models:\n",
    "        pred, _ = m.predict(X_test)\n",
    "        acc[m.model_name] = accuracy_score(pred, y_test)\n",
    "\n",
    "    print(acc)\n",
    "    print(\"-\" * 50)\n",
    "\n",
    "\n",
    "    class_results = {}\n",
    "    features_results = {}\n",
    "    # Loop Through each Class ===================================\n",
    "    for c in np.unique(y):\n",
    "        start_class = time.time()\n",
    "        print(f'Processing Class: {c}')\n",
    "\n",
    "        # Calculate class percentage\n",
    "        class_perc = round(class_counts[c] / df_size, 3)\n",
    "\n",
    "        # Compute Morphing ===================================\n",
    "        morphing = Morph(X_test, y_test, c)\n",
    "        morphing.get_DTWGlobalBorderline(X_test.shape[0])\n",
    "        results = morphing.CalculateMorph(models)\n",
    "\n",
    "        end_class = time.time()\n",
    "        print(f'Total Class {c} run time: {end_class - start_class}')\n",
    "\n",
    "        class_decoed = le.inverse_transform([c])[0]\n",
    "        print(class_decoed)\n",
    "        class_results[class_decoed] = results\n",
    "\n",
    "\n",
    "        # Feature Extraction using TSFEL ===================================\n",
    "        # normalize features difference \n",
    "        models_features = {} \n",
    "        feature_names = None\n",
    "        cfg_file = tsfel.get_features_by_domain() \n",
    "        for m in models:\n",
    "            differences = []\n",
    "            data = results[m.model_name]\n",
    "            for i in range(len(data['morphs'])):\n",
    "\n",
    "                morph = data['morphs'][i]\n",
    "                change_inx = data['change_indice'][i]\n",
    "               \n",
    "                source = morph[0]\n",
    "                target = morph[change_inx]\n",
    "                \n",
    "                # Univariate Time Series ===================================\n",
    "                if morph.shape[1] == 1:\n",
    "                    source_features = tsfel.time_series_features_extractor(cfg_file, source[0], verbose=0)\n",
    "                    target_features = tsfel.time_series_features_extractor(cfg_file, target[0], verbose=0)\n",
    "                    #print(source.shape, target.shape)\n",
    "\n",
    "                # Multivariate Time Series ===================================\n",
    "                else:\n",
    "                    source_features = multivariate_featues(source, cfg_file)\n",
    "                    target_features = multivariate_featues(target, cfg_file)\n",
    "\n",
    "                if feature_names is None:\n",
    "                    feature_names = source_features.columns\n",
    "                \n",
    "                source_features = np.array(source_features)\n",
    "                target_features = np.array(target_features)\n",
    "\n",
    "                percentage_diff = (target_features - source_features) / (np.abs(source_features) + 1e-10)\n",
    "\n",
    "                differences.append(percentage_diff)\n",
    "\n",
    "            avg_diff = np.mean(differences, axis=0).flatten()            \n",
    "                        \n",
    "            if np.isnan(avg_diff[0]):\n",
    "                print(f\"avg_diff is None for {m.model_name} in {class_decoed}. No correct model predictions!\")\n",
    "                models_features[m.model_name] = None\n",
    "                continue\n",
    "            else:\n",
    "                diffs = {}\n",
    "                for i in range(len(avg_diff)):\n",
    "                    diffs[feature_names[i]] = avg_diff[i]\n",
    "\n",
    "                models_features[m.model_name]  = sorted(diffs.items(), key=lambda x: abs(x[1]), reverse=True)\n",
    "\n",
    "                print(\"-\" * 50)\n",
    "                print('Top 5 Feature Changes:')\n",
    "                for feature, diff in models_features[m.model_name][:5]:\n",
    "                    print(f'{feature}: {diff}')\n",
    "\n",
    "        features_results[class_decoed] = models_features\n",
    "     \n",
    "        # Append results to NumPy array\n",
    "        for model in results.keys():\n",
    "            data = results[model]['metrics']\n",
    "            line = np.array([[df_name, df_size, variates, ts_length, n_classes, class_decoed, class_perc, model, data['mean'], data['std'], acc[model]]])\n",
    "            results_array = np.vstack((results_array, line))\n",
    "        \n",
    "\n",
    "    # Save results for the current dataset\n",
    "    file_name = f'results/pickles/{df_name}.pkl'\n",
    "    with open(file_name, 'wb') as f:\n",
    "        pickle.dump(class_results, f)\n",
    "\n",
    "    # Save features results for the current dataset\n",
    "    file_name = f'results/pickles/features_{df_name}.pkl'\n",
    "    with open(file_name, 'wb') as f:\n",
    "        pickle.dump(features_results, f)\n",
    "\n",
    "    # Add results to all_results\n",
    "    all_results[df_name] = class_results\n",
    "    all_features[df_name] = features_results\n",
    "\n",
    "    # Clean ups\n",
    "    del models, lstm, catch, rocket, class_results, features_results, X_train, X_test, y_train, y_test\n",
    "\n",
    "    # Convert NumPy array to Pandas DataFrame\n",
    "    columns = ['dataset', 'df_size', 'n_variates','ts_length', 'n_classes', 'class', 'class_perc', 'model', 'mean', 'std', 'model_acc']\n",
    "    dataframe = pd.DataFrame(results_array, columns=columns)\n",
    "    # Save results to CSV\n",
    "    dataframe.to_csv('article_results\\\\final_results2.csv', index=False)\n",
    "\n",
    "    # Save all results to a single pickle file\n",
    "    with open('article_results\\\\pickles\\\\final_results2.pkl', 'wb') as f:\n",
    "        pickle.dump(all_results, f)\n",
    "    \n",
    "    # Save all features to a single pickle file\n",
    "    with open('article_results\\\\pickles\\\\final_features2.pkl', 'wb') as f:\n",
    "        pickle.dump(all_features, f)\n",
    "\n",
    "print('All results saved successfully!')\n"
   ]
  },
  {
   "cell_type": "code",
   "execution_count": 17,
   "id": "12bb4602",
   "metadata": {},
   "outputs": [],
   "source": [
    "path = 'article_results\\\\pickles\\\\'\n",
    "\n",
    "ECG_datasets = ['EOGHorizontalSignal', 'EOGVerticalSignal', 'Heartbeat',\n",
    "                'NerveDamage', 'StandWalkJump']\n",
    "\n",
    "all_rows = []  \n",
    "\n",
    "for dataset in ECG_datasets:\n",
    "    file = path + 'features_' + dataset + '.pkl'\n",
    "    with open(file, 'rb') as f:\n",
    "        results = pickle.load(f)\n",
    "\n",
    "    for class_label, model_data in results.items():\n",
    "        for model_name, features in model_data.items():\n",
    "            row = {\n",
    "                'Dataset': dataset, \n",
    "                'class': class_label,\n",
    "                'model': model_name,\n",
    "            }\n",
    "            try:\n",
    "                top5 = features[:5]\n",
    "                for i, (fname, fval) in enumerate(top5, 1):\n",
    "                    row[f'f{i}_name'] = fname\n",
    "                    row[f'f{i}'] = fval\n",
    "                # Fill any missing top5 slots with placeholders if needed\n",
    "                for i in range(len(top5)+1, 6):\n",
    "                    row[f'f{i}_name'] = 'None'\n",
    "                    row[f'f{i}'] = 0.0\n",
    "            except Exception:\n",
    "                for i in range(1, 6):\n",
    "                    row[f'f{i}_name'] = 'None'\n",
    "                    row[f'f{i}'] = 0.0\n",
    "            all_rows.append(row)\n",
    "\n",
    "# Define column order\n",
    "columns = ['Dataset', 'class', 'model']\n",
    "for i in range(1, 6):\n",
    "    columns += [f'f{i}_name', f'f{i}']\n",
    "\n",
    "# Save all rows to a single CSV file\n",
    "with open('article_results\\\\top_features.csv', 'w', newline='') as csvfile:\n",
    "    writer = csv.DictWriter(csvfile, fieldnames=columns)\n",
    "    writer.writeheader()\n",
    "    writer.writerows(all_rows)\n"
   ]
  }
 ],
 "metadata": {
  "kernelspec": {
   "display_name": "morph",
   "language": "python",
   "name": "python3"
  },
  "language_info": {
   "codemirror_mode": {
    "name": "ipython",
    "version": 3
   },
   "file_extension": ".py",
   "mimetype": "text/x-python",
   "name": "python",
   "nbconvert_exporter": "python",
   "pygments_lexer": "ipython3",
   "version": "3.10.12"
  }
 },
 "nbformat": 4,
 "nbformat_minor": 5
}
